{
 "cells": [
  {
   "cell_type": "code",
   "execution_count": 1,
   "metadata": {
    "collapsed": true
   },
   "outputs": [],
   "source": [
    "import csv\n",
    "\n",
    "\n",
    "enrollments_filename = 'E:\\udacity\\data analyst\\lesson2\\part1\\enrollments.csv'\n",
    "engagement_filename = 'E:\\udacity\\data analyst\\lesson2\\part1\\daily_engagement.csv'\n",
    "submissions_filename = 'E:\\udacity\\data analyst\\lesson2\\part1\\project_submissions.csv'"
   ]
  },
  {
   "cell_type": "code",
   "execution_count": 2,
   "metadata": {
    "collapsed": true
   },
   "outputs": [],
   "source": [
    "def read_csv(filename):\n",
    "    with open(filename, 'rb') as f:\n",
    "        reader = csv.DictReader(f)\n",
    "        return list(reader)\n",
    "\n",
    "enrollments = read_csv(enrollments_filename)\n",
    "daily_engagement = read_csv(engagement_filename)\n",
    "project_submissions = read_csv(submissions_filename)\n"
   ]
  },
  {
   "cell_type": "code",
   "execution_count": 3,
   "metadata": {
    "collapsed": false
   },
   "outputs": [
    {
     "data": {
      "text/plain": [
       "{'account_key': '448',\n",
       " 'cancel_date': datetime.datetime(2015, 1, 14, 0, 0),\n",
       " 'days_to_cancel': 65,\n",
       " 'is_canceled': True,\n",
       " 'is_udacity': True,\n",
       " 'join_date': datetime.datetime(2014, 11, 10, 0, 0),\n",
       " 'status': 'canceled'}"
      ]
     },
     "execution_count": 3,
     "metadata": {},
     "output_type": "execute_result"
    }
   ],
   "source": [
    "from datetime import datetime as dt\n",
    "\n",
    "# Takes a date as a string, and returns a Python datetime object. \n",
    "# If there is no date given, returns None\n",
    "def parse_date(date):\n",
    "    if date == '':\n",
    "        return None\n",
    "    else:\n",
    "        return dt.strptime(date, '%Y-%m-%d')\n",
    "    \n",
    "# Takes a string which is either an empty string or represents an integer,\n",
    "# and returns an int or None.\n",
    "def parse_maybe_int(i):\n",
    "    if i == '':\n",
    "        return None\n",
    "    else:\n",
    "        return int(i)\n",
    "\n",
    "# Clean up the data types in the enrollments table\n",
    "for enrollment in enrollments:\n",
    "    enrollment['cancel_date'] = parse_date(enrollment['cancel_date'])\n",
    "    enrollment['days_to_cancel'] = parse_maybe_int(enrollment['days_to_cancel'])\n",
    "    enrollment['is_canceled'] = enrollment['is_canceled'] == 'True'\n",
    "    enrollment['is_udacity'] = enrollment['is_udacity'] == 'True'\n",
    "    enrollment['join_date'] = parse_date(enrollment['join_date'])\n",
    "    \n",
    "enrollments[0]\n",
    "        "
   ]
  },
  {
   "cell_type": "code",
   "execution_count": 4,
   "metadata": {
    "collapsed": false
   },
   "outputs": [
    {
     "data": {
      "text/plain": [
       "{'acct': '0',\n",
       " 'lessons_completed': 0,\n",
       " 'num_courses_visited': 1,\n",
       " 'projects_completed': 0,\n",
       " 'total_minutes_visited': 11.6793745,\n",
       " 'utc_date': datetime.datetime(2015, 1, 9, 0, 0)}"
      ]
     },
     "execution_count": 4,
     "metadata": {},
     "output_type": "execute_result"
    }
   ],
   "source": [
    "# Clean up the data types in the engagement table\n",
    "for engagement_record in daily_engagement:\n",
    "    engagement_record['lessons_completed'] = int(float(engagement_record['lessons_completed']))\n",
    "    engagement_record['num_courses_visited'] = int(float(engagement_record['num_courses_visited']))\n",
    "    engagement_record['projects_completed'] = int(float(engagement_record['projects_completed']))\n",
    "    engagement_record['total_minutes_visited'] = float(engagement_record['total_minutes_visited'])\n",
    "    engagement_record['utc_date'] = parse_date(engagement_record['utc_date'])\n",
    "    \n",
    "daily_engagement[0]"
   ]
  },
  {
   "cell_type": "code",
   "execution_count": 5,
   "metadata": {
    "collapsed": false
   },
   "outputs": [
    {
     "data": {
      "text/plain": [
       "{'account_key': '256',\n",
       " 'assigned_rating': 'UNGRADED',\n",
       " 'completion_date': datetime.datetime(2015, 1, 16, 0, 0),\n",
       " 'creation_date': datetime.datetime(2015, 1, 14, 0, 0),\n",
       " 'lesson_key': '3176718735',\n",
       " 'processing_state': 'EVALUATED'}"
      ]
     },
     "execution_count": 5,
     "metadata": {},
     "output_type": "execute_result"
    }
   ],
   "source": [
    "# Clean up the data types in the submissions table\n",
    "for submission in project_submissions:\n",
    "    submission['completion_date'] = parse_date(submission['completion_date'])\n",
    "    submission['creation_date'] = parse_date(submission['creation_date'])\n",
    "\n",
    "project_submissions[0]"
   ]
  },
  {
   "cell_type": "code",
   "execution_count": 6,
   "metadata": {
    "collapsed": true
   },
   "outputs": [],
   "source": [
    "for line in daily_engagement:\n",
    "    line['account_key']=line['acct']\n",
    "    del[line['acct']]"
   ]
  },
  {
   "cell_type": "code",
   "execution_count": 7,
   "metadata": {
    "collapsed": false
   },
   "outputs": [
    {
     "name": "stdout",
     "output_type": "stream",
     "text": [
      "number of data: 1640\n",
      "number of unique students: 1302\n",
      "number of data: 136240\n",
      "number of unique students: 1237\n",
      "number of data: 3642\n",
      "number of unique students: 743\n"
     ]
    }
   ],
   "source": [
    "def unique_student(data):\n",
    "    unique=set()\n",
    "    for line in data:\n",
    "        unique.add(line['account_key'])\n",
    "    return unique\n",
    "def number_unique_student(filename):\n",
    "    print \"number of data: \"+str(len(filename))\n",
    "    print \"number of unique students: \"+str(len(unique_student(filename)))\n",
    "\n",
    "number_unique_student(enrollments)\n",
    "number_unique_student(daily_engagement)\n",
    "number_unique_student(project_submissions)"
   ]
  },
  {
   "cell_type": "code",
   "execution_count": 8,
   "metadata": {
    "collapsed": false
   },
   "outputs": [
    {
     "name": "stdout",
     "output_type": "stream",
     "text": [
      "number different :71\n"
     ]
    }
   ],
   "source": [
    "surprising_data =[]\n",
    "for line in enrollments:\n",
    "    student = line['account_key']\n",
    "    if student not in unique_student(daily_engagement):\n",
    "#        print line\n",
    "#        break\n",
    "        surprising_data.append(line)\n",
    "print \"number different :\"+str(len(surprising_data))"
   ]
  },
  {
   "cell_type": "code",
   "execution_count": 9,
   "metadata": {
    "collapsed": false
   },
   "outputs": [
    {
     "name": "stdout",
     "output_type": "stream",
     "text": [
      "{'status': 'canceled', 'is_udacity': True, 'is_canceled': True, 'join_date': datetime.datetime(2015, 1, 10, 0, 0), 'account_key': '1304', 'cancel_date': datetime.datetime(2015, 3, 10, 0, 0), 'days_to_cancel': 59}\n",
      "{'status': 'canceled', 'is_udacity': True, 'is_canceled': True, 'join_date': datetime.datetime(2015, 3, 10, 0, 0), 'account_key': '1304', 'cancel_date': datetime.datetime(2015, 6, 17, 0, 0), 'days_to_cancel': 99}\n",
      "{'status': 'current', 'is_udacity': True, 'is_canceled': False, 'join_date': datetime.datetime(2015, 2, 25, 0, 0), 'account_key': '1101', 'cancel_date': None, 'days_to_cancel': None}\n",
      "numbers of problem student 3\n"
     ]
    }
   ],
   "source": [
    "num_problem_students=0\n",
    "\n",
    "for line in surprising_data:\n",
    "    join = line['join_date']\n",
    "\n",
    "    quit = line['cancel_date']\n",
    "    if join !=quit:\n",
    "        print line\n",
    "        num_problem_students +=1\n",
    "print \"numbers of problem student \"+str(num_problem_students)"
   ]
  },
  {
   "cell_type": "code",
   "execution_count": 10,
   "metadata": {
    "collapsed": false
   },
   "outputs": [
    {
     "name": "stdout",
     "output_type": "stream",
     "text": [
      "is udacity account:\n",
      "6\n"
     ]
    }
   ],
   "source": [
    "udacity_test_accounts=set()\n",
    "for line in enrollments:\n",
    "    if line['is_udacity']:\n",
    "        udacity_test_accounts.add(line['account_key'])\n",
    "print \"is udacity account:\"\n",
    "print len(udacity_test_accounts)"
   ]
  },
  {
   "cell_type": "code",
   "execution_count": 11,
   "metadata": {
    "collapsed": true
   },
   "outputs": [],
   "source": [
    "def remove_udacity_accounts(data):\n",
    "    non_udacity_data=[]\n",
    "    for line in data:\n",
    "        if line['account_key'] not in udacity_test_accounts:\n",
    "            non_udacity_data.append(line)\n",
    "    return non_udacity_data"
   ]
  },
  {
   "cell_type": "code",
   "execution_count": 12,
   "metadata": {
    "collapsed": false
   },
   "outputs": [
    {
     "name": "stdout",
     "output_type": "stream",
     "text": [
      "1622\n",
      "135656\n",
      "3634\n"
     ]
    }
   ],
   "source": [
    "non_udacity_enrollments = remove_udacity_accounts(enrollments)\n",
    "non_udacity_engagement = remove_udacity_accounts(daily_engagement)\n",
    "non_udacity_submissions = remove_udacity_accounts(project_submissions)\n",
    "print len(non_udacity_enrollments)\n",
    "print len(non_udacity_engagement)\n",
    "print len(non_udacity_submissions)"
   ]
  },
  {
   "cell_type": "code",
   "execution_count": 13,
   "metadata": {
    "collapsed": false
   },
   "outputs": [
    {
     "name": "stdout",
     "output_type": "stream",
     "text": [
      "number of student paid\n",
      "995\n"
     ]
    }
   ],
   "source": [
    "paid_students={}\n",
    "for line in non_udacity_enrollments:\n",
    "    if not line['is_canceled'] or line['days_to_cancel'] > 7:\n",
    "        account_key=line['account_key']\n",
    "        enrollment_data=line['join_date']\n",
    "        if (account_key not in paid_students or enrollment_data>paid_students[account_key]):\n",
    "            paid_students[account_key]=enrollment_data\n",
    "print \"number of student paid\"\n",
    "print len(paid_students)"
   ]
  },
  {
   "cell_type": "code",
   "execution_count": 14,
   "metadata": {
    "collapsed": true
   },
   "outputs": [],
   "source": [
    "def within_one_week(join_date, engagement_date):\n",
    "    time_delta = engagement_date - join_date\n",
    "    return time_delta.days < 7 and time_delta.days>=0"
   ]
  },
  {
   "cell_type": "code",
   "execution_count": 15,
   "metadata": {
    "collapsed": true
   },
   "outputs": [],
   "source": [
    "def remove_free_trial_cancels(data):\n",
    "    new_data = []\n",
    "    for data_point in data:\n",
    "        if data_point['account_key'] in paid_students:\n",
    "            new_data.append(data_point)\n",
    "    return new_data"
   ]
  },
  {
   "cell_type": "code",
   "execution_count": 16,
   "metadata": {
    "collapsed": false
   },
   "outputs": [
    {
     "name": "stdout",
     "output_type": "stream",
     "text": [
      "1293\n",
      "134549\n",
      "3618\n"
     ]
    }
   ],
   "source": [
    "paid_enrollments = remove_free_trial_cancels(non_udacity_enrollments)\n",
    "paid_engagement = remove_free_trial_cancels(non_udacity_engagement)\n",
    "paid_submissions = remove_free_trial_cancels(non_udacity_submissions)\n",
    "print len(paid_enrollments)\n",
    "print len(paid_engagement)\n",
    "print len(paid_submissions)"
   ]
  },
  {
   "cell_type": "code",
   "execution_count": 17,
   "metadata": {
    "collapsed": false
   },
   "outputs": [
    {
     "name": "stdout",
     "output_type": "stream",
     "text": [
      "6919\n"
     ]
    }
   ],
   "source": [
    "paid_engagement_in_first_week = []\n",
    "\n",
    "for line in paid_engagement:\n",
    "    account_key = line['account_key']\n",
    "    join_date = paid_students[account_key]\n",
    "    engagement_record_date = line['utc_date']\n",
    "\n",
    "    if within_one_week(join_date, engagement_record_date):\n",
    "        paid_engagement_in_first_week.append(line) \n",
    "        \n",
    "print len(paid_engagement_in_first_week)\n",
    "        "
   ]
  },
  {
   "cell_type": "code",
   "execution_count": 18,
   "metadata": {
    "collapsed": true
   },
   "outputs": [],
   "source": [
    "from collections import defaultdict\n",
    "\n",
    "# Create a dictionary of engagement grouped by student.\n",
    "# The keys are account keys, and the values are lists of engagement records.\n",
    "engagement_by_account = defaultdict(list)\n",
    "for engagement_record in paid_engagement_in_first_week:\n",
    "    account_key = engagement_record['account_key']\n",
    "    engagement_by_account[account_key].append(engagement_record)"
   ]
  },
  {
   "cell_type": "code",
   "execution_count": 19,
   "metadata": {
    "collapsed": true
   },
   "outputs": [],
   "source": [
    "# Create a dictionary with the total minutes each student spent in the classroom during the first week.\n",
    "# The keys are account keys, and the values are numbers (total minutes)\n",
    "total_minutes_by_account = {}\n",
    "for account_key, engagement_for_student in engagement_by_account.items():\n",
    "    total_minutes = 0\n",
    "    for engagement_record in engagement_for_student:\n",
    "        total_minutes += engagement_record['total_minutes_visited']\n",
    "    total_minutes_by_account[account_key] = total_minutes"
   ]
  },
  {
   "cell_type": "code",
   "execution_count": 20,
   "metadata": {
    "collapsed": false
   },
   "outputs": [
    {
     "name": "stdout",
     "output_type": "stream",
     "text": [
      "Mean: 306.708326753\n",
      "Standard deviation: 412.996933409\n",
      "Minimum: 0.0\n",
      "Maximum: 3564.7332645\n"
     ]
    }
   ],
   "source": [
    "import numpy as np\n",
    "\n",
    "# Summarize the data about minutes spent in the classroom\n",
    "total_minutes = total_minutes_by_account.values()\n",
    "print 'Mean:', np.mean(total_minutes)\n",
    "print 'Standard deviation:', np.std(total_minutes)\n",
    "print 'Minimum:', np.min(total_minutes)\n",
    "print 'Maximum:', np.max(total_minutes)"
   ]
  },
  {
   "cell_type": "code",
   "execution_count": 21,
   "metadata": {
    "collapsed": false
   },
   "outputs": [
    {
     "name": "stdout",
     "output_type": "stream",
     "text": [
      "{'lessons_completed': 4, 'num_courses_visited': 4, 'total_minutes_visited': 850.519339666, 'projects_completed': 0, 'account_key': '163', 'utc_date': datetime.datetime(2015, 7, 9, 0, 0)}\n",
      "{'lessons_completed': 6, 'num_courses_visited': 6, 'total_minutes_visited': 872.633923334, 'projects_completed': 0, 'account_key': '163', 'utc_date': datetime.datetime(2015, 7, 10, 0, 0)}\n",
      "{'lessons_completed': 6, 'num_courses_visited': 2, 'total_minutes_visited': 777.018903666, 'projects_completed': 0, 'account_key': '163', 'utc_date': datetime.datetime(2015, 7, 11, 0, 0)}\n",
      "{'lessons_completed': 2, 'num_courses_visited': 1, 'total_minutes_visited': 294.568774, 'projects_completed': 0, 'account_key': '163', 'utc_date': datetime.datetime(2015, 7, 12, 0, 0)}\n",
      "{'lessons_completed': 1, 'num_courses_visited': 3, 'total_minutes_visited': 471.2139785, 'projects_completed': 0, 'account_key': '163', 'utc_date': datetime.datetime(2015, 7, 13, 0, 0)}\n",
      "{'lessons_completed': 1, 'num_courses_visited': 2, 'total_minutes_visited': 298.778345333, 'projects_completed': 0, 'account_key': '163', 'utc_date': datetime.datetime(2015, 7, 14, 0, 0)}\n",
      "{'lessons_completed': 0, 'num_courses_visited': 0, 'total_minutes_visited': 0.0, 'projects_completed': 0, 'account_key': '163', 'utc_date': datetime.datetime(2015, 7, 15, 0, 0)}\n"
     ]
    }
   ],
   "source": [
    "student_with_max_minutes = None\n",
    "max_minutes = 0\n",
    "\n",
    "for student, total_minutes in total_minutes_by_account.items():\n",
    "    if total_minutes > max_minutes:\n",
    "        max_minutes = total_minutes\n",
    "        student_with_max_minutes = student\n",
    "\n",
    "max_minutes\n",
    "\n",
    "for engagement_record in paid_engagement_in_first_week:\n",
    "    if engagement_record['account_key'] == student_with_max_minutes:\n",
    "        print engagement_record"
   ]
  },
  {
   "cell_type": "code",
   "execution_count": 22,
   "metadata": {
    "collapsed": true
   },
   "outputs": [],
   "source": [
    "from collections import defaultdict\n",
    "def group_data(data,key_name):\n",
    "    grouped_data=defaultdict(list)\n",
    "    for data_point in data:\n",
    "        key=data_point[key_name]\n",
    "        grouped_data[key].append(data_point)\n",
    "    return grouped_data"
   ]
  },
  {
   "cell_type": "code",
   "execution_count": 23,
   "metadata": {
    "collapsed": false
   },
   "outputs": [],
   "source": [
    "engagement_by_account= group_data(paid_engagement_in_first_week,'account_key')"
   ]
  },
  {
   "cell_type": "code",
   "execution_count": 24,
   "metadata": {
    "collapsed": true
   },
   "outputs": [],
   "source": [
    "def sum_grouped_items(grouped_data, field_name):\n",
    "    summed_data={}\n",
    "    for key, data_point in grouped_data.items():\n",
    "        total_summed_data=0\n",
    "        for a in data_point:\n",
    "            total_summed_data+= a[field_name]\n",
    "        summed_data[key]=total_summed_data\n",
    "    return summed_data    "
   ]
  },
  {
   "cell_type": "code",
   "execution_count": 25,
   "metadata": {
    "collapsed": false
   },
   "outputs": [],
   "source": [
    "lessons_completed_by_account =sum_grouped_items(engagement_by_account, 'lessons_completed')\n"
   ]
  },
  {
   "cell_type": "code",
   "execution_count": 26,
   "metadata": {
    "collapsed": false
   },
   "outputs": [],
   "source": [
    "# Summarize the data about minutes spent in the classroom\n",
    "def analys (total):\n",
    "    import numpy as np\n",
    "#    %matplotlib inline  \n",
    "#    import matplotlib.pyplot as plt\n",
    "\n",
    "    print 'Mean:', np.mean(total)\n",
    "    print 'Standard deviation:', np.std(total)\n",
    "    print 'Minimum:', np.min(total)\n",
    "    print 'Maximum:', np.max(total)\n",
    "#    plt.hist(total)"
   ]
  },
  {
   "cell_type": "code",
   "execution_count": 27,
   "metadata": {
    "collapsed": false
   },
   "outputs": [
    {
     "name": "stdout",
     "output_type": "stream",
     "text": [
      "Mean: 1.63618090452\n",
      "Standard deviation: 3.00256129983\n",
      "Minimum: 0\n",
      "Maximum: 36\n"
     ]
    }
   ],
   "source": [
    "analys(lessons_completed_by_account.values())"
   ]
  },
  {
   "cell_type": "code",
   "execution_count": 28,
   "metadata": {
    "collapsed": true
   },
   "outputs": [],
   "source": [
    "for line in paid_engagement:\n",
    "    if line['num_courses_visited']>0:\n",
    "        line['has_visited']=1\n",
    "    else:\n",
    "        line['has_visited']=0"
   ]
  },
  {
   "cell_type": "code",
   "execution_count": 29,
   "metadata": {
    "collapsed": false
   },
   "outputs": [],
   "source": [
    "days_visited_by_account=sum_grouped_items(engagement_by_account,'has_visited')"
   ]
  },
  {
   "cell_type": "code",
   "execution_count": 30,
   "metadata": {
    "collapsed": false
   },
   "outputs": [
    {
     "name": "stdout",
     "output_type": "stream",
     "text": [
      "Mean: 2.86733668342\n",
      "Standard deviation: 2.25519800292\n",
      "Minimum: 0\n",
      "Maximum: 7\n"
     ]
    }
   ],
   "source": [
    "analys(days_visited_by_account.values())"
   ]
  },
  {
   "cell_type": "code",
   "execution_count": 32,
   "metadata": {
    "collapsed": false
   },
   "outputs": [],
   "source": [
    "subway_project_lesson_keys=['746169184','3176718735']\n",
    "\n",
    "passing_engagement =0\n",
    "non_passing_engagement =0\n"
   ]
  },
  {
   "cell_type": "code",
   "execution_count": 33,
   "metadata": {
    "collapsed": false
   },
   "outputs": [
    {
     "name": "stdout",
     "output_type": "stream",
     "text": [
      "647\n",
      "4527\n",
      "2392\n"
     ]
    }
   ],
   "source": [
    "subway_project_lesson_keys=['746169184','3176718735']\n",
    "pass_subway_project=set()\n",
    "passing_engagement =[]\n",
    "non_passing_engagement =[]\n",
    "for line in paid_submissions:\n",
    "    if line['lesson_key'] in subway_project_lesson_keys:\n",
    "        if line['assigned_rating']=='PASSED' or line['assigned_rating']=='DISTINCTION':\n",
    "            pass_subway_project.add(line['account_key'])\n",
    "print len(pass_subway_project)\n",
    "\n",
    "for data in paid_engagement_in_first_week:\n",
    "    if data['account_key'] in pass_subway_project:\n",
    "        passing_engagement.append(data)\n",
    "    else:\n",
    "        non_passing_engagement.append(data)\n",
    "print len(passing_engagement)\n",
    "print len(non_passing_engagement)\n",
    "          \n",
    "    "
   ]
  },
  {
   "cell_type": "code",
   "execution_count": 34,
   "metadata": {
    "collapsed": false
   },
   "outputs": [
    {
     "name": "stdout",
     "output_type": "stream",
     "text": [
      "{'lessons_completed': 0, 'num_courses_visited': 1, 'has_visited': 1, 'total_minutes_visited': 11.6793745, 'projects_completed': 0, 'account_key': '0', 'utc_date': datetime.datetime(2015, 1, 9, 0, 0)}\n"
     ]
    }
   ],
   "source": [
    "print passing_engagement[0]"
   ]
  },
  {
   "cell_type": "code",
   "execution_count": 35,
   "metadata": {
    "collapsed": false
   },
   "outputs": [],
   "source": [
    "#print \"passing_engagement:\"\n",
    "#analys(sum_grouped_items(group_data(passing_engagement,'account_key'),'total_minutes_visited').values())\n"
   ]
  },
  {
   "cell_type": "code",
   "execution_count": 36,
   "metadata": {
    "collapsed": false
   },
   "outputs": [],
   "source": [
    "#print \"non_passing_engagement:\"\n",
    "#analys(sum_grouped_items(group_data(non_passing_engagement,'account_key'),'total_minutes_visited').values())"
   ]
  },
  {
   "cell_type": "code",
   "execution_count": 37,
   "metadata": {
    "collapsed": false
   },
   "outputs": [],
   "source": [
    "def comparing_pass_non_pass(item):\n",
    "    print item, \"\\n\"\n",
    "    print \"passing_engagement:\"\n",
    "    analys(sum_grouped_items(group_data(passing_engagement,'account_key'),item).values())\n",
    "    print \"non_passing_engagement:\"\n",
    "    analys(sum_grouped_items(group_data(non_passing_engagement,'account_key'),item).values())\n",
    "    print \"\\n\\n\"\n"
   ]
  },
  {
   "cell_type": "code",
   "execution_count": 38,
   "metadata": {
    "collapsed": false
   },
   "outputs": [
    {
     "name": "stdout",
     "output_type": "stream",
     "text": [
      "total_minutes_visited \n",
      "\n",
      "passing_engagement:\n",
      "Mean: 394.586046484\n",
      "Standard deviation: 448.499519327\n",
      "Minimum: 0.0\n",
      "Maximum: 3564.7332645\n",
      "non_passing_engagement:\n",
      "Mean: 143.326474267\n",
      "Standard deviation: 269.538619011\n",
      "Minimum: 0.0\n",
      "Maximum: 1768.52274933\n",
      "\n",
      "\n",
      "\n"
     ]
    }
   ],
   "source": [
    "comparing_pass_non_pass('total_minutes_visited')\n"
   ]
  },
  {
   "cell_type": "code",
   "execution_count": 39,
   "metadata": {
    "collapsed": false
   },
   "outputs": [],
   "source": [
    "#%matplotlib inline\n",
    "#import matplotlib.pyplot as plt\n",
    "#plt.hist(data)"
   ]
  },
  {
   "cell_type": "code",
   "execution_count": 40,
   "metadata": {
    "collapsed": true
   },
   "outputs": [],
   "source": [
    "import matplotlib.pyplot as plt\n",
    "import seaborn as sns\n",
    "%matplotlib inline"
   ]
  },
  {
   "cell_type": "code",
   "execution_count": 44,
   "metadata": {
    "collapsed": false
   },
   "outputs": [
    {
     "ename": "NameError",
     "evalue": "name 'passing_enegagement' is not defined",
     "output_type": "error",
     "traceback": [
      "\u001b[1;31m---------------------------------------------------------------------------\u001b[0m",
      "\u001b[1;31mNameError\u001b[0m                                 Traceback (most recent call last)",
      "\u001b[1;32m<ipython-input-44-5594ce519490>\u001b[0m in \u001b[0;36m<module>\u001b[1;34m()\u001b[0m\n\u001b[0;32m      1\u001b[0m \u001b[0mpassed\u001b[0m\u001b[1;33m=\u001b[0m\u001b[0mdefaultdict\u001b[0m\u001b[1;33m(\u001b[0m\u001b[0mlist\u001b[0m\u001b[1;33m)\u001b[0m\u001b[1;33m\u001b[0m\u001b[0m\n\u001b[1;32m----> 2\u001b[1;33m \u001b[0mpassed\u001b[0m\u001b[1;33m[\u001b[0m\u001b[1;34m'passing_engagement'\u001b[0m\u001b[1;33m]\u001b[0m\u001b[1;33m=\u001b[0m\u001b[0mpassing_enegagement\u001b[0m\u001b[1;33m\u001b[0m\u001b[0m\n\u001b[0m",
      "\u001b[1;31mNameError\u001b[0m: name 'passing_enegagement' is not defined"
     ]
    }
   ],
   "source": [
    "passed=defaultdict(list)\n",
    "passed['passing_engagement']=passing_enegagement"
   ]
  },
  {
   "cell_type": "code",
   "execution_count": 41,
   "metadata": {
    "collapsed": false
   },
   "outputs": [],
   "source": [
    "def graph_hist(pass_or_not, subject):\n",
    " \n",
    "    plt.hist(sum_grouped_items(group_data(pass_or_not,'account_key'),subject).values(), bins=8)\n",
    "    plt.xlabel('Number of days')\n",
    "    if pass_or_not.func_name =='passing_engagement':\n",
    "        plt.title('Distribution of classroom ' + subject + ' in the first week ' + 'for students who pass the subway project')\n",
    "    elif pass_or_not.func_name =='non_passing_engagement':\n",
    "        plt.title('Distribution of classroom' + subject + 'in the first week ' + 'for students who do not pass the subway project')\n"
   ]
  },
  {
   "cell_type": "code",
   "execution_count": 43,
   "metadata": {
    "collapsed": false
   },
   "outputs": [
    {
     "ename": "AttributeError",
     "evalue": "'list' object has no attribute 'func_name'",
     "output_type": "error",
     "traceback": [
      "\u001b[1;31m---------------------------------------------------------------------------\u001b[0m",
      "\u001b[1;31mAttributeError\u001b[0m                            Traceback (most recent call last)",
      "\u001b[1;32m<ipython-input-43-018f4cefe364>\u001b[0m in \u001b[0;36m<module>\u001b[1;34m()\u001b[0m\n\u001b[1;32m----> 1\u001b[1;33m \u001b[0mgraph_hist\u001b[0m\u001b[1;33m(\u001b[0m\u001b[0mpassing_engagement\u001b[0m\u001b[1;33m,\u001b[0m \u001b[1;34m'total_minutes_visited'\u001b[0m\u001b[1;33m)\u001b[0m\u001b[1;33m\u001b[0m\u001b[0m\n\u001b[0m\u001b[0;32m      2\u001b[0m \u001b[1;31m#plt.hist(sum_grouped_items(group_data(passing_engagement,'account_key'),'total_minutes_visited').values())\u001b[0m\u001b[1;33m\u001b[0m\u001b[1;33m\u001b[0m\u001b[0m\n",
      "\u001b[1;32m<ipython-input-41-911022475f35>\u001b[0m in \u001b[0;36mgraph_hist\u001b[1;34m(pass_or_not, subject)\u001b[0m\n\u001b[0;32m      3\u001b[0m     \u001b[0mplt\u001b[0m\u001b[1;33m.\u001b[0m\u001b[0mhist\u001b[0m\u001b[1;33m(\u001b[0m\u001b[0msum_grouped_items\u001b[0m\u001b[1;33m(\u001b[0m\u001b[0mgroup_data\u001b[0m\u001b[1;33m(\u001b[0m\u001b[0mpass_or_not\u001b[0m\u001b[1;33m,\u001b[0m\u001b[1;34m'account_key'\u001b[0m\u001b[1;33m)\u001b[0m\u001b[1;33m,\u001b[0m\u001b[0msubject\u001b[0m\u001b[1;33m)\u001b[0m\u001b[1;33m.\u001b[0m\u001b[0mvalues\u001b[0m\u001b[1;33m(\u001b[0m\u001b[1;33m)\u001b[0m\u001b[1;33m,\u001b[0m \u001b[0mbins\u001b[0m\u001b[1;33m=\u001b[0m\u001b[1;36m8\u001b[0m\u001b[1;33m)\u001b[0m\u001b[1;33m\u001b[0m\u001b[0m\n\u001b[0;32m      4\u001b[0m     \u001b[0mplt\u001b[0m\u001b[1;33m.\u001b[0m\u001b[0mxlabel\u001b[0m\u001b[1;33m(\u001b[0m\u001b[1;34m'Number of days'\u001b[0m\u001b[1;33m)\u001b[0m\u001b[1;33m\u001b[0m\u001b[0m\n\u001b[1;32m----> 5\u001b[1;33m     \u001b[1;32mif\u001b[0m \u001b[0mpass_or_not\u001b[0m\u001b[1;33m.\u001b[0m\u001b[0mfunc_name\u001b[0m \u001b[1;33m==\u001b[0m\u001b[1;34m'passing_engagement'\u001b[0m\u001b[1;33m:\u001b[0m\u001b[1;33m\u001b[0m\u001b[0m\n\u001b[0m\u001b[0;32m      6\u001b[0m         \u001b[0mplt\u001b[0m\u001b[1;33m.\u001b[0m\u001b[0mtitle\u001b[0m\u001b[1;33m(\u001b[0m\u001b[1;34m'Distribution of classroom '\u001b[0m \u001b[1;33m+\u001b[0m \u001b[0msubject\u001b[0m \u001b[1;33m+\u001b[0m \u001b[1;34m' in the first week '\u001b[0m \u001b[1;33m+\u001b[0m \u001b[1;34m'for students who pass the subway project'\u001b[0m\u001b[1;33m)\u001b[0m\u001b[1;33m\u001b[0m\u001b[0m\n\u001b[0;32m      7\u001b[0m     \u001b[1;32melif\u001b[0m \u001b[0mpass_or_not\u001b[0m\u001b[1;33m.\u001b[0m\u001b[0mfunc_name\u001b[0m \u001b[1;33m==\u001b[0m\u001b[1;34m'non_passing_engagement'\u001b[0m\u001b[1;33m:\u001b[0m\u001b[1;33m\u001b[0m\u001b[0m\n",
      "\u001b[1;31mAttributeError\u001b[0m: 'list' object has no attribute 'func_name'"
     ]
    },
    {
     "data": {
      "image/png": "[encoded data removed]",
      "text/plain": [
       "<matplotlib.figure.Figure at 0x15efa080>"
      ]
     },
     "metadata": {},
     "output_type": "display_data"
    }
   ],
   "source": [
    "graph_hist(passing_engagement, 'total_minutes_visited')\n",
    "#plt.hist(sum_grouped_items(group_data(passing_engagement,'account_key'),'total_minutes_visited').values())"
   ]
  },
  {
   "cell_type": "code",
   "execution_count": null,
   "metadata": {
    "collapsed": false
   },
   "outputs": [],
   "source": [
    "graph_hist(non_passing_engagement, 'total_minutes_visited')\n",
    "#plt.hist(sum_grouped_items(group_data(non_passing_engagement,'account_key'),'total_minutes_visited').values())"
   ]
  },
  {
   "cell_type": "code",
   "execution_count": null,
   "metadata": {
    "collapsed": false
   },
   "outputs": [],
   "source": [
    "comparing_pass_non_pass('lessons_completed')\n"
   ]
  },
  {
   "cell_type": "code",
   "execution_count": null,
   "metadata": {
    "collapsed": false
   },
   "outputs": [],
   "source": [
    "plt.hist(sum_grouped_items(group_data(passing_engagement,'account_key'),'lessons_completed').values())"
   ]
  },
  {
   "cell_type": "code",
   "execution_count": null,
   "metadata": {
    "collapsed": false
   },
   "outputs": [],
   "source": [
    "plt.hist(sum_grouped_items(group_data(non_passing_engagement,'account_key'),'lessons_completed').values())"
   ]
  },
  {
   "cell_type": "code",
   "execution_count": null,
   "metadata": {
    "collapsed": false
   },
   "outputs": [],
   "source": [
    "comparing_pass_non_pass('has_visited')"
   ]
  },
  {
   "cell_type": "code",
   "execution_count": null,
   "metadata": {
    "collapsed": false
   },
   "outputs": [],
   "source": [
    "plt.hist(sum_grouped_items(group_data(passing_engagement,'account_key'),'has_visited').values())"
   ]
  },
  {
   "cell_type": "code",
   "execution_count": null,
   "metadata": {
    "collapsed": false
   },
   "outputs": [],
   "source": [
    "plt.hist(sum_grouped_items(group_data(non_passing_engagement,'account_key'),'has_visited').values())"
   ]
  },
  {
   "cell_type": "code",
   "execution_count": null,
   "metadata": {
    "collapsed": true
   },
   "outputs": [],
   "source": []
  }
 ],
 "metadata": {
  "kernelspec": {
   "display_name": "Python 2",
   "language": "python",
   "name": "python2"
  },
  "language_info": {
   "codemirror_mode": {
    "name": "ipython",
    "version": 2
   },
   "file_extension": ".py",
   "mimetype": "text/x-python",
   "name": "python",
   "nbconvert_exporter": "python",
   "pygments_lexer": "ipython2",
   "version": "2.7.11"
  }
 },
 "nbformat": 4,
 "nbformat_minor": 0
}
