{
 "cells": [
  {
   "cell_type": "code",
   "execution_count": 1,
   "metadata": {
    "collapsed": false
   },
   "outputs": [
    {
     "name": "stdout",
     "output_type": "stream",
     "text": [
      "Populating the interactive namespace from numpy and matplotlib\n"
     ]
    }
   ],
   "source": [
    "import pandas as pd\n",
    "import numpy as np\n",
    "import scipy \n",
    "from scipy.stats import pearsonr as pr\n",
    "import seaborn as sns\n",
    "from sklearn.linear_model import LogisticRegression as lr\n",
    "import matplotlib.pyplot as plt\n",
    "%pylab inline\n",
    "titanic_df = pd.read_csv('titanic_data.csv')"
   ]
  },
  {
   "cell_type": "code",
   "execution_count": 2,
   "metadata": {
    "collapsed": false
   },
   "outputs": [],
   "source": [
    "def correlation(x,y):\n",
    "    \n",
    "    corr, p=pr(x,y)\n",
    "    if p>0.05:\n",
    "        test='The correlation is not statistically significant'\n",
    "    elif p<=0.05:\n",
    "        test='The correlation is statistically significant'\n",
    "    \n",
    "    return 'correlation: {:.4f}  P-value: {:.4f}%'.format(corr,p*100), test\n"
   ]
  },
  {
   "cell_type": "code",
   "execution_count": 3,
   "metadata": {
    "collapsed": true
   },
   "outputs": [],
   "source": [
    "def Survived_name(df):\n",
    "    df.loc[df['Survived']==0,'Survived']='Dead'\n",
    "    df.loc[df['Survived']==1,'Survived']='Alive'\n",
    "    "
   ]
  },
  {
   "cell_type": "code",
   "execution_count": 4,
   "metadata": {
    "collapsed": false
   },
   "outputs": [
    {
     "data": {
      "text/html": [
       "<div>\n",
       "<table border=\"1\" class=\"dataframe\">\n",
       "  <thead>\n",
       "    <tr style=\"text-align: right;\">\n",
       "      <th></th>\n",
       "      <th>PassengerId</th>\n",
       "      <th>Survived</th>\n",
       "      <th>Pclass</th>\n",
       "      <th>Name</th>\n",
       "      <th>Sex</th>\n",
       "      <th>Age</th>\n",
       "      <th>SibSp</th>\n",
       "      <th>Parch</th>\n",
       "      <th>Ticket</th>\n",
       "      <th>Fare</th>\n",
       "      <th>Cabin</th>\n",
       "      <th>Embarked</th>\n",
       "    </tr>\n",
       "  </thead>\n",
       "  <tbody>\n",
       "    <tr>\n",
       "      <th>0</th>\n",
       "      <td>1</td>\n",
       "      <td>0</td>\n",
       "      <td>3</td>\n",
       "      <td>Braund, Mr. Owen Harris</td>\n",
       "      <td>male</td>\n",
       "      <td>22</td>\n",
       "      <td>1</td>\n",
       "      <td>0</td>\n",
       "      <td>A/5 21171</td>\n",
       "      <td>7.2500</td>\n",
       "      <td>NaN</td>\n",
       "      <td>S</td>\n",
       "    </tr>\n",
       "    <tr>\n",
       "      <th>1</th>\n",
       "      <td>2</td>\n",
       "      <td>1</td>\n",
       "      <td>1</td>\n",
       "      <td>Cumings, Mrs. John Bradley (Florence Briggs Th...</td>\n",
       "      <td>female</td>\n",
       "      <td>38</td>\n",
       "      <td>1</td>\n",
       "      <td>0</td>\n",
       "      <td>PC 17599</td>\n",
       "      <td>71.2833</td>\n",
       "      <td>C85</td>\n",
       "      <td>C</td>\n",
       "    </tr>\n",
       "    <tr>\n",
       "      <th>2</th>\n",
       "      <td>3</td>\n",
       "      <td>1</td>\n",
       "      <td>3</td>\n",
       "      <td>Heikkinen, Miss. Laina</td>\n",
       "      <td>female</td>\n",
       "      <td>26</td>\n",
       "      <td>0</td>\n",
       "      <td>0</td>\n",
       "      <td>STON/O2. 3101282</td>\n",
       "      <td>7.9250</td>\n",
       "      <td>NaN</td>\n",
       "      <td>S</td>\n",
       "    </tr>\n",
       "    <tr>\n",
       "      <th>3</th>\n",
       "      <td>4</td>\n",
       "      <td>1</td>\n",
       "      <td>1</td>\n",
       "      <td>Futrelle, Mrs. Jacques Heath (Lily May Peel)</td>\n",
       "      <td>female</td>\n",
       "      <td>35</td>\n",
       "      <td>1</td>\n",
       "      <td>0</td>\n",
       "      <td>113803</td>\n",
       "      <td>53.1000</td>\n",
       "      <td>C123</td>\n",
       "      <td>S</td>\n",
       "    </tr>\n",
       "    <tr>\n",
       "      <th>4</th>\n",
       "      <td>5</td>\n",
       "      <td>0</td>\n",
       "      <td>3</td>\n",
       "      <td>Allen, Mr. William Henry</td>\n",
       "      <td>male</td>\n",
       "      <td>35</td>\n",
       "      <td>0</td>\n",
       "      <td>0</td>\n",
       "      <td>373450</td>\n",
       "      <td>8.0500</td>\n",
       "      <td>NaN</td>\n",
       "      <td>S</td>\n",
       "    </tr>\n",
       "  </tbody>\n",
       "</table>\n",
       "</div>"
      ],
      "text/plain": [
       "   PassengerId  Survived  Pclass  \\\n",
       "0            1         0       3   \n",
       "1            2         1       1   \n",
       "2            3         1       3   \n",
       "3            4         1       1   \n",
       "4            5         0       3   \n",
       "\n",
       "                                                Name     Sex  Age  SibSp  \\\n",
       "0                            Braund, Mr. Owen Harris    male   22      1   \n",
       "1  Cumings, Mrs. John Bradley (Florence Briggs Th...  female   38      1   \n",
       "2                             Heikkinen, Miss. Laina  female   26      0   \n",
       "3       Futrelle, Mrs. Jacques Heath (Lily May Peel)  female   35      1   \n",
       "4                           Allen, Mr. William Henry    male   35      0   \n",
       "\n",
       "   Parch            Ticket     Fare Cabin Embarked  \n",
       "0      0         A/5 21171   7.2500   NaN        S  \n",
       "1      0          PC 17599  71.2833   C85        C  \n",
       "2      0  STON/O2. 3101282   7.9250   NaN        S  \n",
       "3      0            113803  53.1000  C123        S  \n",
       "4      0            373450   8.0500   NaN        S  "
      ]
     },
     "execution_count": 4,
     "metadata": {},
     "output_type": "execute_result"
    }
   ],
   "source": [
    "titanic_df.head()"
   ]
  },
  {
   "cell_type": "markdown",
   "metadata": {
    "collapsed": true
   },
   "source": [
    "Question: What factors made people more likely to survive?"
   ]
  },
  {
   "cell_type": "markdown",
   "metadata": {},
   "source": [
    "Prediction: I think Sex and Age are the biggest factors to survive, since concept of “women and children first”; I think class is the neext important factors. Normally higher class means the room is higher from the sea level, which let they have more time to escape."
   ]
  },
  {
   "cell_type": "code",
   "execution_count": 5,
   "metadata": {
    "collapsed": false
   },
   "outputs": [
    {
     "name": "stdout",
     "output_type": "stream",
     "text": [
      "Number of NAN value in Cabin:  687\n",
      "Number of data 891\n"
     ]
    }
   ],
   "source": [
    "print 'Number of NAN value in Cabin: ', titanic_df['Cabin'].isnull().values.sum()\n",
    "print 'Number of data', len(titanic_df)\n"
   ]
  },
  {
   "cell_type": "markdown",
   "metadata": {},
   "source": [
    "we are droping the columns that we do not want \n",
    "\n",
    "PassengerId: we already have a index colmun \n",
    "\n",
    "Cabin: it has too many NAN value\n",
    "\n",
    "Ticket: it does not show any similarity with each other "
   ]
  },
  {
   "cell_type": "code",
   "execution_count": 6,
   "metadata": {
    "collapsed": false
   },
   "outputs": [
    {
     "data": {
      "text/html": [
       "<div>\n",
       "<table border=\"1\" class=\"dataframe\">\n",
       "  <thead>\n",
       "    <tr style=\"text-align: right;\">\n",
       "      <th></th>\n",
       "      <th>Survived</th>\n",
       "      <th>Pclass</th>\n",
       "      <th>Name</th>\n",
       "      <th>Sex</th>\n",
       "      <th>Age</th>\n",
       "      <th>SibSp</th>\n",
       "      <th>Parch</th>\n",
       "      <th>Fare</th>\n",
       "      <th>Embarked</th>\n",
       "    </tr>\n",
       "  </thead>\n",
       "  <tbody>\n",
       "    <tr>\n",
       "      <th>0</th>\n",
       "      <td>0</td>\n",
       "      <td>3</td>\n",
       "      <td>Braund, Mr. Owen Harris</td>\n",
       "      <td>male</td>\n",
       "      <td>22</td>\n",
       "      <td>1</td>\n",
       "      <td>0</td>\n",
       "      <td>7.2500</td>\n",
       "      <td>S</td>\n",
       "    </tr>\n",
       "    <tr>\n",
       "      <th>1</th>\n",
       "      <td>1</td>\n",
       "      <td>1</td>\n",
       "      <td>Cumings, Mrs. John Bradley (Florence Briggs Th...</td>\n",
       "      <td>female</td>\n",
       "      <td>38</td>\n",
       "      <td>1</td>\n",
       "      <td>0</td>\n",
       "      <td>71.2833</td>\n",
       "      <td>C</td>\n",
       "    </tr>\n",
       "    <tr>\n",
       "      <th>2</th>\n",
       "      <td>1</td>\n",
       "      <td>3</td>\n",
       "      <td>Heikkinen, Miss. Laina</td>\n",
       "      <td>female</td>\n",
       "      <td>26</td>\n",
       "      <td>0</td>\n",
       "      <td>0</td>\n",
       "      <td>7.9250</td>\n",
       "      <td>S</td>\n",
       "    </tr>\n",
       "    <tr>\n",
       "      <th>3</th>\n",
       "      <td>1</td>\n",
       "      <td>1</td>\n",
       "      <td>Futrelle, Mrs. Jacques Heath (Lily May Peel)</td>\n",
       "      <td>female</td>\n",
       "      <td>35</td>\n",
       "      <td>1</td>\n",
       "      <td>0</td>\n",
       "      <td>53.1000</td>\n",
       "      <td>S</td>\n",
       "    </tr>\n",
       "    <tr>\n",
       "      <th>4</th>\n",
       "      <td>0</td>\n",
       "      <td>3</td>\n",
       "      <td>Allen, Mr. William Henry</td>\n",
       "      <td>male</td>\n",
       "      <td>35</td>\n",
       "      <td>0</td>\n",
       "      <td>0</td>\n",
       "      <td>8.0500</td>\n",
       "      <td>S</td>\n",
       "    </tr>\n",
       "    <tr>\n",
       "      <th>5</th>\n",
       "      <td>0</td>\n",
       "      <td>3</td>\n",
       "      <td>Moran, Mr. James</td>\n",
       "      <td>male</td>\n",
       "      <td>NaN</td>\n",
       "      <td>0</td>\n",
       "      <td>0</td>\n",
       "      <td>8.4583</td>\n",
       "      <td>Q</td>\n",
       "    </tr>\n",
       "    <tr>\n",
       "      <th>6</th>\n",
       "      <td>0</td>\n",
       "      <td>1</td>\n",
       "      <td>McCarthy, Mr. Timothy J</td>\n",
       "      <td>male</td>\n",
       "      <td>54</td>\n",
       "      <td>0</td>\n",
       "      <td>0</td>\n",
       "      <td>51.8625</td>\n",
       "      <td>S</td>\n",
       "    </tr>\n",
       "    <tr>\n",
       "      <th>7</th>\n",
       "      <td>0</td>\n",
       "      <td>3</td>\n",
       "      <td>Palsson, Master. Gosta Leonard</td>\n",
       "      <td>male</td>\n",
       "      <td>2</td>\n",
       "      <td>3</td>\n",
       "      <td>1</td>\n",
       "      <td>21.0750</td>\n",
       "      <td>S</td>\n",
       "    </tr>\n",
       "    <tr>\n",
       "      <th>8</th>\n",
       "      <td>1</td>\n",
       "      <td>3</td>\n",
       "      <td>Johnson, Mrs. Oscar W (Elisabeth Vilhelmina Berg)</td>\n",
       "      <td>female</td>\n",
       "      <td>27</td>\n",
       "      <td>0</td>\n",
       "      <td>2</td>\n",
       "      <td>11.1333</td>\n",
       "      <td>S</td>\n",
       "    </tr>\n",
       "    <tr>\n",
       "      <th>9</th>\n",
       "      <td>1</td>\n",
       "      <td>2</td>\n",
       "      <td>Nasser, Mrs. Nicholas (Adele Achem)</td>\n",
       "      <td>female</td>\n",
       "      <td>14</td>\n",
       "      <td>1</td>\n",
       "      <td>0</td>\n",
       "      <td>30.0708</td>\n",
       "      <td>C</td>\n",
       "    </tr>\n",
       "  </tbody>\n",
       "</table>\n",
       "</div>"
      ],
      "text/plain": [
       "   Survived  Pclass                                               Name  \\\n",
       "0         0       3                            Braund, Mr. Owen Harris   \n",
       "1         1       1  Cumings, Mrs. John Bradley (Florence Briggs Th...   \n",
       "2         1       3                             Heikkinen, Miss. Laina   \n",
       "3         1       1       Futrelle, Mrs. Jacques Heath (Lily May Peel)   \n",
       "4         0       3                           Allen, Mr. William Henry   \n",
       "5         0       3                                   Moran, Mr. James   \n",
       "6         0       1                            McCarthy, Mr. Timothy J   \n",
       "7         0       3                     Palsson, Master. Gosta Leonard   \n",
       "8         1       3  Johnson, Mrs. Oscar W (Elisabeth Vilhelmina Berg)   \n",
       "9         1       2                Nasser, Mrs. Nicholas (Adele Achem)   \n",
       "\n",
       "      Sex  Age  SibSp  Parch     Fare Embarked  \n",
       "0    male   22      1      0   7.2500        S  \n",
       "1  female   38      1      0  71.2833        C  \n",
       "2  female   26      0      0   7.9250        S  \n",
       "3  female   35      1      0  53.1000        S  \n",
       "4    male   35      0      0   8.0500        S  \n",
       "5    male  NaN      0      0   8.4583        Q  \n",
       "6    male   54      0      0  51.8625        S  \n",
       "7    male    2      3      1  21.0750        S  \n",
       "8  female   27      0      2  11.1333        S  \n",
       "9  female   14      1      0  30.0708        C  "
      ]
     },
     "execution_count": 6,
     "metadata": {},
     "output_type": "execute_result"
    }
   ],
   "source": [
    "titanic_df=titanic_df.drop(['PassengerId','Cabin','Ticket',],axis=1)\n",
    "titanic_df.head(10)"
   ]
  },
  {
   "cell_type": "code",
   "execution_count": 7,
   "metadata": {
    "collapsed": false
   },
   "outputs": [
    {
     "name": "stdout",
     "output_type": "stream",
     "text": [
      "Number of Missing data in Age:  177\n"
     ]
    }
   ],
   "source": [
    "#check Age for nan\n",
    "print \"Number of Missing data in Age: \", titanic_df['Age'].isnull().values.sum()"
   ]
  },
  {
   "cell_type": "code",
   "execution_count": 8,
   "metadata": {
    "collapsed": false
   },
   "outputs": [
    {
     "name": "stdout",
     "output_type": "stream",
     "text": [
      "age NAN fill with mean: ('correlation: -0.0698  P-value: 3.7217%', 'The correlation is statistically significant')\n",
      "age NAN fill with -1: ('correlation: 0.0124  P-value: 71.0791%', 'The correlation is not statistically significant')\n",
      "age without NAN:  ('correlation: -0.0772  P-value: 3.9125%', 'The correlation is statistically significant')\n"
     ]
    }
   ],
   "source": [
    "#Age fill nan\n",
    "age_df=pd.DataFrame(titanic_df['Age'].fillna(titanic_df['Age'].mean()))\n",
    "\n",
    "age2_df=pd.DataFrame(titanic_df['Age'].fillna(-1))\n",
    "\n",
    "age3_df=pd.DataFrame(titanic_df['Survived'])\n",
    "age3_df=age3_df.join(titanic_df['Age'])\n",
    "age3_df =age3_df[np.isfinite(age3_df['Age'])]\n",
    "\n",
    "print 'age NAN fill with mean:',correlation(age_df['Age'],titanic_df['Survived'])\n",
    "print 'age NAN fill with -1:',correlation(age2_df['Age'],titanic_df['Survived'])\n",
    "print 'age without NAN: ', correlation(age3_df['Age'],age3_df['Survived'])"
   ]
  },
  {
   "cell_type": "code",
   "execution_count": 9,
   "metadata": {
    "collapsed": false
   },
   "outputs": [
    {
     "name": "stdout",
     "output_type": "stream",
     "text": [
      "baby:  ('correlation: -0.5922  P-value: 0.2296%', 'The correlation is statistically significant')\n",
      "children:  ('correlation: -0.2308  P-value: 1.3071%', 'The correlation is statistically significant')\n",
      "Adult:  ('correlation: 0.0099  P-value: 81.2531%', 'The correlation is not statistically significant')\n"
     ]
    }
   ],
   "source": [
    "#age divid into group\n",
    "children_df = titanic_df[['Survived','Age']][(titanic_df['Age'] <= 18)&(titanic_df['Age'] >2)]\n",
    "adult_df= titanic_df[(titanic_df['Age'] > 18)]\n",
    "baby_df=titanic_df[(titanic_df['Age']<=2)]\n",
    "print 'baby: ', correlation(baby_df['Survived'],baby_df['Age'])\n",
    "print 'children: ', correlation(children_df['Survived'],children_df['Age'])\n",
    "print 'Adult: ', correlation(adult_df['Survived'],adult_df['Age'])"
   ]
  },
  {
   "cell_type": "code",
   "execution_count": 10,
   "metadata": {
    "collapsed": false
   },
   "outputs": [],
   "source": [
    "children_df=children_df[['Survived','Age']]\n",
    "children_alive_df=children_df[(children_df['Survived']==1)]\n",
    "children_dead_df=children_df[(children_df['Survived']==0)]\n",
    "adult_df=adult_df[['Survived','Age']]\n",
    "adult_alive_df=adult_df[(adult_df['Survived']==1)]\n",
    "adult_dead_df=adult_df[(adult_df['Survived']==0)]\n",
    "baby_df=baby_df[['Survived','Age']]\n",
    "baby_alive_df=baby_df[(baby_df['Survived']==1)]\n",
    "baby_dead_df=baby_df[(baby_df['Survived']==0)]"
   ]
  },
  {
   "cell_type": "code",
   "execution_count": 11,
   "metadata": {
    "collapsed": false
   },
   "outputs": [],
   "source": [
    "def graph_set(axis):\n",
    "    axis.set_xlabel(\"Age\")\n",
    "    axis.set_ylabel(\"number\")\n",
    "    axis.legend(['Alive','Dead'],loc='upper center')"
   ]
  },
  {
   "cell_type": "code",
   "execution_count": 12,
   "metadata": {
    "collapsed": false
   },
   "outputs": [
    {
     "data": {
      "image/png": "[encoded data removed]",
      "text/plain": [
       "<matplotlib.figure.Figure at 0xa6123c8>"
      ]
     },
     "metadata": {},
     "output_type": "display_data"
    },
    {
     "data": {
      "image/png": "[encoded data removed]",
      "text/plain": [
       "<matplotlib.figure.Figure at 0xa637668>"
      ]
     },
     "metadata": {},
     "output_type": "display_data"
    }
   ],
   "source": [
    "#age'graph\n",
    "All_age=titanic_df['Age'].plot(kind='hist', title='Over all Age in Titanic', figsize=(15,4), bins=20, color='Green')\n",
    "All_age.set_xlabel('Age')\n",
    "All_age.set_ylabel('Number of people')\n",
    "fig, ((axis1, axis2, axis3)) = plt.subplots(1,3,figsize=(15,4))\n",
    "axis1.set_title('Baby')\n",
    "axis2.set_title('Children')\n",
    "axis3.set_title('Audlt')\n",
    "axis1.hist([baby_alive_df['Age'],baby_dead_df['Age']],color=['blue','red'], stacked=True, bins=10)\n",
    "axis2.hist([children_alive_df['Age'],children_dead_df['Age']],color=['blue','red'],stacked=True,bins=10)\n",
    "axis3.hist([adult_alive_df['Age'],adult_dead_df['Age']],color=['blue','red'], stacked=True,bins=10)\n",
    "graph_set(axis1)\n",
    "graph_set(axis2)\n",
    "graph_set(axis3)\n"
   ]
  },
  {
   "cell_type": "markdown",
   "metadata": {
    "collapsed": false
   },
   "source": [
    "### Analysis Age ###\n",
    "\n",
    ">We can see we have some missing data in Age's column, so I am try to see which way is the best approach to eliminate the missing data. Base on the correlation test, I choose not to count the missing data at all. We can see three different approach all have small correlation with survival. It is really different from our prediction. \n",
    "\n",
    ">We think the children may have higher survival rate, so we use 2 years old and 18 years old  as divider to divide the age into three group: baby, children & adult. We can see baby group has the highest correlation (-0.59) & children group's correlation also increase to (-0.23). Since the correlation is negative, we may conclude that the younger passenger have higher chance to survive, but it only true for children. \n",
    "\n",
    ">For adult, age did not have relation to the survival rate. The correlation for adult 0.0099 and p-value is 81%, higher than 5%, which mean the correlation is not statistically significant. That means adult and survival do not have correlation."
   ]
  },
  {
   "cell_type": "code",
   "execution_count": null,
   "metadata": {
    "collapsed": true
   },
   "outputs": [],
   "source": []
  },
  {
   "cell_type": "code",
   "execution_count": 13,
   "metadata": {
    "collapsed": false
   },
   "outputs": [
    {
     "name": "stdout",
     "output_type": "stream",
     "text": [
      "Sex's correlation:  ('correlation: 0.5434  P-value: 0.0000%', 'The correlation is statistically significant')\n"
     ]
    },
    {
     "name": "stderr",
     "output_type": "stream",
     "text": [
      "C:\\Anaconda2\\lib\\site-packages\\pandas\\core\\indexing.py:426: SettingWithCopyWarning: \n",
      "A value is trying to be set on a copy of a slice from a DataFrame.\n",
      "Try using .loc[row_indexer,col_indexer] = value instead\n",
      "\n",
      "See the caveats in the documentation: http://pandas.pydata.org/pandas-docs/stable/indexing.html#indexing-view-versus-copy\n",
      "  self.obj[item] = s\n"
     ]
    },
    {
     "data": {
      "text/html": [
       "<div>\n",
       "<table border=\"1\" class=\"dataframe\">\n",
       "  <thead>\n",
       "    <tr style=\"text-align: right;\">\n",
       "      <th></th>\n",
       "      <th>Survived</th>\n",
       "    </tr>\n",
       "    <tr>\n",
       "      <th>Sex</th>\n",
       "      <th></th>\n",
       "    </tr>\n",
       "  </thead>\n",
       "  <tbody>\n",
       "    <tr>\n",
       "      <th>female</th>\n",
       "      <td>314</td>\n",
       "    </tr>\n",
       "    <tr>\n",
       "      <th>male</th>\n",
       "      <td>577</td>\n",
       "    </tr>\n",
       "  </tbody>\n",
       "</table>\n",
       "</div>"
      ],
      "text/plain": [
       "        Survived\n",
       "Sex             \n",
       "female       314\n",
       "male         577"
      ]
     },
     "metadata": {},
     "output_type": "display_data"
    },
    {
     "data": {
      "text/html": [
       "<div>\n",
       "<table border=\"1\" class=\"dataframe\">\n",
       "  <thead>\n",
       "    <tr style=\"text-align: right;\">\n",
       "      <th></th>\n",
       "      <th>female</th>\n",
       "      <th>male</th>\n",
       "    </tr>\n",
       "    <tr>\n",
       "      <th>Survived</th>\n",
       "      <th></th>\n",
       "      <th></th>\n",
       "    </tr>\n",
       "  </thead>\n",
       "  <tbody>\n",
       "    <tr>\n",
       "      <th>Alive</th>\n",
       "      <td>233</td>\n",
       "      <td>109</td>\n",
       "    </tr>\n",
       "    <tr>\n",
       "      <th>Dead</th>\n",
       "      <td>81</td>\n",
       "      <td>468</td>\n",
       "    </tr>\n",
       "  </tbody>\n",
       "</table>\n",
       "</div>"
      ],
      "text/plain": [
       "          female  male\n",
       "Survived              \n",
       "Alive        233   109\n",
       "Dead          81   468"
      ]
     },
     "metadata": {},
     "output_type": "display_data"
    }
   ],
   "source": [
    "#Sex\n",
    "sex_df=titanic_df[['Survived','Sex']]\n",
    "sex_df.loc[sex_df['Sex']=='male','Sex']=0\n",
    "sex_df.loc[sex_df['Sex']=='female','Sex']=1\n",
    "print \"Sex's correlation: \",correlation(sex_df['Sex'],sex_df['Survived'])\n",
    "female_male_df=pd.get_dummies(titanic_df['Sex'])\n",
    "female_male_df=female_male_df.join(sex_df['Survived'])\n",
    "Survived_name(female_male_df)\n",
    "sex_sum_df=female_male_df.groupby(['Survived']).sum()\n",
    "sex_count_df=titanic_df[['Survived','Sex']].groupby(['Sex']).count()\n",
    "display(sex_count_df) \n",
    "display(sex_sum_df)\n",
    "\n",
    "\n",
    "\n"
   ]
  },
  {
   "cell_type": "code",
   "execution_count": null,
   "metadata": {
    "collapsed": false
   },
   "outputs": [],
   "source": []
  },
  {
   "cell_type": "code",
   "execution_count": 14,
   "metadata": {
    "collapsed": false
   },
   "outputs": [
    {
     "data": {
      "text/plain": [
       "<matplotlib.axes._subplots.AxesSubplot at 0xb215390>"
      ]
     },
     "execution_count": 14,
     "metadata": {},
     "output_type": "execute_result"
    },
    {
     "data": {
      "image/png": "[encoded data removed]",
      "text/plain": [
       "<matplotlib.figure.Figure at 0xa612fd0>"
      ]
     },
     "metadata": {},
     "output_type": "display_data"
    }
   ],
   "source": [
    "#sex's graph\n",
    "fig, ((axis1, axis2)) = plt.subplots(1,2,figsize=(15,4))\n",
    "sex_count_df.plot(kind='bar', title='gender',color='#0066FF', legend=False, ax=axis1)\n",
    "sex_sum_df.plot(kind='bar', title='Survival of gender',color=['#FFB3FF','#33CCFF'],ax=axis2)\n"
   ]
  },
  {
   "cell_type": "markdown",
   "metadata": {},
   "source": [
    "### Analysis Sex ###\n",
    ">We can see number of male is almost double of female. But when we look at the number base on Survival, Female has more 2:1 Survival rate and Male's Survival rate only have 1:4.5. we can conclude being female can increase the chance to survival by a lot.\n",
    "\n",
    "> The correlation is 0.54, which is high. And the p-value is less than 5%, it shows the correlation Sex and Survival is statistically significant"
   ]
  },
  {
   "cell_type": "code",
   "execution_count": null,
   "metadata": {
    "collapsed": false
   },
   "outputs": [],
   "source": []
  },
  {
   "cell_type": "code",
   "execution_count": 15,
   "metadata": {
    "collapsed": false
   },
   "outputs": [
    {
     "name": "stdout",
     "output_type": "stream",
     "text": [
      "family's correlation:  ('correlation: 0.2034  P-value: 0.0000%', 'The correlation is statistically significant')\n"
     ]
    }
   ],
   "source": [
    "#family\n",
    "family_df=pd.DataFrame(titanic_df['Survived'])\n",
    "family_df['family']=titanic_df['SibSp']+titanic_df['Parch']\n",
    "family_df.loc[family_df['family']>1,'family']=1\n",
    "print \"family's correlation: \", correlation(family_df['family'],family_df['Survived'])\n",
    "is_family_df=pd.get_dummies(family_df['family'])\n",
    "family_df.loc[family_df['family']==0,'family']='Alone'\n",
    "family_df.loc[family_df['family']==1,'family']='with Family'\n",
    "family_count_df=family_df.groupby(['family']).count()\n",
    "\n",
    "family_df=family_df.join(is_family_df)\n",
    "del family_df['family']\n",
    "Survived_name(family_df)\n",
    "\n",
    "family_sum_df=family_df.groupby('Survived').sum()\n",
    "family_sum_df.columns=['Alone','With Family']\n",
    "\n"
   ]
  },
  {
   "cell_type": "code",
   "execution_count": 16,
   "metadata": {
    "collapsed": false
   },
   "outputs": [
    {
     "data": {
      "text/plain": [
       "<matplotlib.axes._subplots.AxesSubplot at 0xbb6f240>"
      ]
     },
     "execution_count": 16,
     "metadata": {},
     "output_type": "execute_result"
    },
    {
     "data": {
      "image/png": "[encoded data removed]",
      "text/plain": [
       "<matplotlib.figure.Figure at 0xb364940>"
      ]
     },
     "metadata": {},
     "output_type": "display_data"
    }
   ],
   "source": [
    "#family's graph\n",
    "fig, ((axis1, axis2)) = plt.subplots(1,2,figsize=(15,4))\n",
    "family_count_df.plot(kind='bar', title='Family',color='#009FCC', legend=False, ax=axis1)\n",
    "family_sum_df.plot(kind='bar', title=\"family's Survival\",color=['#00AA00','#EE7700'],ax=axis2)"
   ]
  },
  {
   "cell_type": "markdown",
   "metadata": {},
   "source": [
    "### Analysis family ###\n",
    "\n",
    ">I add the column SibSp and Parch together, if the value is not zero, I consider that passenger is on board with family member. We can see from the second graph, amount of passenger alive is similar but the amount of dead is very different. Passenger with other family member have survival rate 1:1; passenger who is alone has survival rate less than 1:2.5. The correlation test is 0.20, which show the correlation between survival and passenger with or without family is moderate. People may have higher chance to survive if they have other family member with them."
   ]
  },
  {
   "cell_type": "code",
   "execution_count": null,
   "metadata": {
    "collapsed": true
   },
   "outputs": [],
   "source": []
  },
  {
   "cell_type": "code",
   "execution_count": 17,
   "metadata": {
    "collapsed": false
   },
   "outputs": [
    {
     "name": "stdout",
     "output_type": "stream",
     "text": [
      "class's correlation:  ('correlation: -0.3385  P-value: 0.0000%', 'The correlation is statistically significant')\n"
     ]
    },
    {
     "data": {
      "text/html": [
       "<div>\n",
       "<table border=\"1\" class=\"dataframe\">\n",
       "  <thead>\n",
       "    <tr style=\"text-align: right;\">\n",
       "      <th></th>\n",
       "      <th>Survived</th>\n",
       "    </tr>\n",
       "    <tr>\n",
       "      <th>Pclass</th>\n",
       "      <th></th>\n",
       "    </tr>\n",
       "  </thead>\n",
       "  <tbody>\n",
       "    <tr>\n",
       "      <th>1</th>\n",
       "      <td>216</td>\n",
       "    </tr>\n",
       "    <tr>\n",
       "      <th>2</th>\n",
       "      <td>184</td>\n",
       "    </tr>\n",
       "    <tr>\n",
       "      <th>3</th>\n",
       "      <td>491</td>\n",
       "    </tr>\n",
       "  </tbody>\n",
       "</table>\n",
       "</div>"
      ],
      "text/plain": [
       "        Survived\n",
       "Pclass          \n",
       "1            216\n",
       "2            184\n",
       "3            491"
      ]
     },
     "metadata": {},
     "output_type": "display_data"
    },
    {
     "data": {
      "text/html": [
       "<div>\n",
       "<table border=\"1\" class=\"dataframe\">\n",
       "  <thead>\n",
       "    <tr style=\"text-align: right;\">\n",
       "      <th></th>\n",
       "      <th>1st class</th>\n",
       "      <th>2nd class</th>\n",
       "      <th>3rd class</th>\n",
       "    </tr>\n",
       "    <tr>\n",
       "      <th>Survived</th>\n",
       "      <th></th>\n",
       "      <th></th>\n",
       "      <th></th>\n",
       "    </tr>\n",
       "  </thead>\n",
       "  <tbody>\n",
       "    <tr>\n",
       "      <th>Alive</th>\n",
       "      <td>136</td>\n",
       "      <td>87</td>\n",
       "      <td>119</td>\n",
       "    </tr>\n",
       "    <tr>\n",
       "      <th>Dead</th>\n",
       "      <td>80</td>\n",
       "      <td>97</td>\n",
       "      <td>372</td>\n",
       "    </tr>\n",
       "  </tbody>\n",
       "</table>\n",
       "</div>"
      ],
      "text/plain": [
       "          1st class  2nd class  3rd class\n",
       "Survived                                 \n",
       "Alive           136         87        119\n",
       "Dead             80         97        372"
      ]
     },
     "metadata": {},
     "output_type": "display_data"
    }
   ],
   "source": [
    "#class\n",
    "class_df=pd.concat([titanic_df['Survived'],pd.get_dummies(titanic_df['Pclass'])],axis=1)\n",
    "class_df.columns=['Survived','1st class','2nd class','3rd class']\n",
    "print \"class's correlation: \", correlation(titanic_df['Pclass'],titanic_df['Survived'])\n",
    "Survived_name(class_df)\n",
    "class_count_df=titanic_df[['Survived','Pclass']].groupby('Pclass').count()\n",
    "class_sum_df=class_df.groupby('Survived').sum()\n",
    "display(class_count_df)\n",
    "display(class_sum_df)"
   ]
  },
  {
   "cell_type": "code",
   "execution_count": 18,
   "metadata": {
    "collapsed": false
   },
   "outputs": [
    {
     "data": {
      "text/html": [
       "<div>\n",
       "<table border=\"1\" class=\"dataframe\">\n",
       "  <thead>\n",
       "    <tr style=\"text-align: right;\">\n",
       "      <th></th>\n",
       "      <th></th>\n",
       "      <th>Pclass</th>\n",
       "    </tr>\n",
       "    <tr>\n",
       "      <th>Survived</th>\n",
       "      <th>Pclass</th>\n",
       "      <th></th>\n",
       "    </tr>\n",
       "  </thead>\n",
       "  <tbody>\n",
       "    <tr>\n",
       "      <th rowspan=\"3\" valign=\"top\">0</th>\n",
       "      <th>1</th>\n",
       "      <td>37.037037</td>\n",
       "    </tr>\n",
       "    <tr>\n",
       "      <th>2</th>\n",
       "      <td>52.717391</td>\n",
       "    </tr>\n",
       "    <tr>\n",
       "      <th>3</th>\n",
       "      <td>75.763747</td>\n",
       "    </tr>\n",
       "    <tr>\n",
       "      <th rowspan=\"3\" valign=\"top\">1</th>\n",
       "      <th>1</th>\n",
       "      <td>62.962963</td>\n",
       "    </tr>\n",
       "    <tr>\n",
       "      <th>2</th>\n",
       "      <td>47.282609</td>\n",
       "    </tr>\n",
       "    <tr>\n",
       "      <th>3</th>\n",
       "      <td>24.236253</td>\n",
       "    </tr>\n",
       "  </tbody>\n",
       "</table>\n",
       "</div>"
      ],
      "text/plain": [
       "                    Pclass\n",
       "Survived Pclass           \n",
       "0        1       37.037037\n",
       "         2       52.717391\n",
       "         3       75.763747\n",
       "1        1       62.962963\n",
       "         2       47.282609\n",
       "         3       24.236253"
      ]
     },
     "execution_count": 18,
     "metadata": {},
     "output_type": "execute_result"
    }
   ],
   "source": [
    "class2_df=titanic_df[['Survived','Pclass']]\n",
    "class_sum = class2_df.groupby(['Survived', 'Pclass']).agg({'Pclass': 'sum'})\n",
    "class_total = class2_df.groupby(['Pclass']).agg({'Pclass': 'sum'})\n",
    "class_sum.div(class_total, level='Pclass') * 100\n"
   ]
  },
  {
   "cell_type": "code",
   "execution_count": 19,
   "metadata": {
    "collapsed": false
   },
   "outputs": [
    {
     "data": {
      "text/plain": [
       "<matplotlib.axes._subplots.AxesSubplot at 0xbee8668>"
      ]
     },
     "execution_count": 19,
     "metadata": {},
     "output_type": "execute_result"
    },
    {
     "data": {
      "image/png": "[encoded data removed]",
      "text/plain": [
       "<matplotlib.figure.Figure at 0xa612860>"
      ]
     },
     "metadata": {},
     "output_type": "display_data"
    }
   ],
   "source": [
    "#class\n",
    "fig, ((axis1, axis2)) = plt.subplots(1,2,figsize=(15,4))\n",
    "class_count_df.plot(kind='bar', title='Class',color='#009FCC', legend=False, ax=axis1)\n",
    "class_sum_df.plot(kind='bar', title=\"Class's Survival\",color=['#CC0000','#0044BB','#00DD00'],ax=axis2)"
   ]
  },
  {
   "cell_type": "markdown",
   "metadata": {},
   "source": [
    "### Analysis class ###\n",
    "\n",
    ">I break down the class column into three class to see survival in each class. We can see 1st class has 63% survival rate; 2nd class has similar amount, 52% dead and 47% alive; 3rd class has more then 3 times dead  than alive, 75% of 3rd class is dead and 25% of 3rd alive.\n",
    "\n",
    ">The correlation test show -0.33. The correlation between class and survival is moderate. And the P-value of the correlation is less than 5%. It shows the correlation is statistically significant. I think people who do not choose 3rd class can double their chance to survive from 25% to around 50% or more."
   ]
  },
  {
   "cell_type": "markdown",
   "metadata": {
    "collapsed": false
   },
   "source": []
  },
  {
   "cell_type": "code",
   "execution_count": 20,
   "metadata": {
    "collapsed": false
   },
   "outputs": [
    {
     "name": "stdout",
     "output_type": "stream",
     "text": [
      "Fare # of Missing date:  0\n",
      "class's correlation:  ('correlation: 0.2573  P-value: 0.0000%', 'The correlation is statistically significant')\n"
     ]
    }
   ],
   "source": [
    "#Fare\n",
    "fare_df=titanic_df[['Survived','Fare']]\n",
    "print \"Fare # of Missing date: \", fare_df['Fare'].isnull().values.sum()\n",
    "print \"class's correlation: \", correlation(titanic_df['Fare'],titanic_df['Survived'])\n",
    "fare_dead=fare_df[fare_df['Survived']==0]\n",
    "fare_alive=fare_df[fare_df['Survived']==1]"
   ]
  },
  {
   "cell_type": "code",
   "execution_count": 21,
   "metadata": {
    "collapsed": false
   },
   "outputs": [
    {
     "data": {
      "text/html": [
       "<div>\n",
       "<table border=\"1\" class=\"dataframe\">\n",
       "  <thead>\n",
       "    <tr style=\"text-align: right;\">\n",
       "      <th></th>\n",
       "      <th>Survived</th>\n",
       "      <th>Pclass</th>\n",
       "      <th>Name</th>\n",
       "      <th>Sex</th>\n",
       "      <th>Age</th>\n",
       "      <th>SibSp</th>\n",
       "      <th>Parch</th>\n",
       "      <th>Fare</th>\n",
       "      <th>Embarked</th>\n",
       "    </tr>\n",
       "  </thead>\n",
       "  <tbody>\n",
       "    <tr>\n",
       "      <th>258</th>\n",
       "      <td>1</td>\n",
       "      <td>1</td>\n",
       "      <td>Ward, Miss. Anna</td>\n",
       "      <td>female</td>\n",
       "      <td>35</td>\n",
       "      <td>0</td>\n",
       "      <td>0</td>\n",
       "      <td>512.3292</td>\n",
       "      <td>C</td>\n",
       "    </tr>\n",
       "    <tr>\n",
       "      <th>679</th>\n",
       "      <td>1</td>\n",
       "      <td>1</td>\n",
       "      <td>Cardeza, Mr. Thomas Drake Martinez</td>\n",
       "      <td>male</td>\n",
       "      <td>36</td>\n",
       "      <td>0</td>\n",
       "      <td>1</td>\n",
       "      <td>512.3292</td>\n",
       "      <td>C</td>\n",
       "    </tr>\n",
       "    <tr>\n",
       "      <th>737</th>\n",
       "      <td>1</td>\n",
       "      <td>1</td>\n",
       "      <td>Lesurer, Mr. Gustave J</td>\n",
       "      <td>male</td>\n",
       "      <td>35</td>\n",
       "      <td>0</td>\n",
       "      <td>0</td>\n",
       "      <td>512.3292</td>\n",
       "      <td>C</td>\n",
       "    </tr>\n",
       "  </tbody>\n",
       "</table>\n",
       "</div>"
      ],
      "text/plain": [
       "     Survived  Pclass                                Name     Sex  Age  SibSp  \\\n",
       "258         1       1                    Ward, Miss. Anna  female   35      0   \n",
       "679         1       1  Cardeza, Mr. Thomas Drake Martinez    male   36      0   \n",
       "737         1       1              Lesurer, Mr. Gustave J    male   35      0   \n",
       "\n",
       "     Parch      Fare Embarked  \n",
       "258      0  512.3292        C  \n",
       "679      1  512.3292        C  \n",
       "737      0  512.3292        C  "
      ]
     },
     "execution_count": 21,
     "metadata": {},
     "output_type": "execute_result"
    },
    {
     "data": {
      "image/png": "[encoded data removed]",
      "text/plain": [
       "<matplotlib.figure.Figure at 0xc030eb8>"
      ]
     },
     "metadata": {},
     "output_type": "display_data"
    },
    {
     "data": {
      "image/png": "[encoded data removed]",
      "text/plain": [
       "<matplotlib.figure.Figure at 0xc030f98>"
      ]
     },
     "metadata": {},
     "output_type": "display_data"
    }
   ],
   "source": [
    "#Fare's graph\n",
    "\n",
    "fig, ((axis1, axis2)) = plt.subplots(1,2,figsize=(15,4))\n",
    "sns.boxplot(y='Fare',x='Survived',data=fare_df,showfliers=True,ax=axis1)\n",
    "sns.boxplot(y='Fare',x='Survived',data=fare_df,showfliers=False,ax=axis2)\n",
    "\n",
    "fig,axis3= plt.subplots(1,1,figsize=(15,4))\n",
    "axis3.hist([fare_alive['Fare'],fare_dead['Fare']],color=['blue','red'], stacked=True,bins=100,)\n",
    "axis3.set_xlabel('Fare')\n",
    "axis3.set_ylabel('Frequency')\n",
    "axis3.legend(['Dead','Alive'])\n",
    "axis3.set_xlim(0,150)\n",
    "titanic_df[titanic_df['Fare']>500]"
   ]
  },
  {
   "cell_type": "markdown",
   "metadata": {},
   "source": [
    "### Analysis fare ###\n",
    "\n",
    ">I think fare and class will have the similar result, since the higher class ticket cost more.  From the first graph we can see some outlier. We can look closer to the outlier, we can find there have few people that pay more than \\$500, and they all alive. But people pay around \\$100~300 seem to have equal number between dead or live. Next we try to look closer to the boxplot without outlier. It shows people who dead is pay less compare to people who survive. We can see that bar graph for more detail. People who pay between \\$0~20 are most likely dead. It matches with our class data. People who pay \\$0~20 probably is paying for 3rd class ticket. The correlation test is 0.26, which is moderate.  Seem like the survival correlation for cost for the ticket is less class. Unless you pay more than \\$500, which tickets have 100%  survival rate."
   ]
  },
  {
   "cell_type": "markdown",
   "metadata": {
    "collapsed": false
   },
   "source": []
  },
  {
   "cell_type": "code",
   "execution_count": 22,
   "metadata": {
    "collapsed": false,
    "scrolled": true
   },
   "outputs": [
    {
     "name": "stdout",
     "output_type": "stream",
     "text": [
      "C's correlation:  ('correlation: 0.1682  P-value: 0.0000%', 'The correlation is statistically significant')\n",
      "Q's correlation:  ('correlation: 0.0037  P-value: 91.3353%', 'The correlation is not statistically significant')\n",
      "S's correlation:  ('correlation: -0.1557  P-value: 0.0003%', 'The correlation is statistically significant')\n"
     ]
    },
    {
     "data": {
      "text/html": [
       "<div>\n",
       "<table border=\"1\" class=\"dataframe\">\n",
       "  <thead>\n",
       "    <tr style=\"text-align: right;\">\n",
       "      <th></th>\n",
       "      <th>Survived</th>\n",
       "    </tr>\n",
       "    <tr>\n",
       "      <th>Embarked</th>\n",
       "      <th></th>\n",
       "    </tr>\n",
       "  </thead>\n",
       "  <tbody>\n",
       "    <tr>\n",
       "      <th>C</th>\n",
       "      <td>168</td>\n",
       "    </tr>\n",
       "    <tr>\n",
       "      <th>Q</th>\n",
       "      <td>77</td>\n",
       "    </tr>\n",
       "    <tr>\n",
       "      <th>S</th>\n",
       "      <td>644</td>\n",
       "    </tr>\n",
       "  </tbody>\n",
       "</table>\n",
       "</div>"
      ],
      "text/plain": [
       "          Survived\n",
       "Embarked          \n",
       "C              168\n",
       "Q               77\n",
       "S              644"
      ]
     },
     "metadata": {},
     "output_type": "display_data"
    },
    {
     "data": {
      "text/html": [
       "<div>\n",
       "<table border=\"1\" class=\"dataframe\">\n",
       "  <thead>\n",
       "    <tr style=\"text-align: right;\">\n",
       "      <th></th>\n",
       "      <th>C</th>\n",
       "      <th>Q</th>\n",
       "      <th>S</th>\n",
       "    </tr>\n",
       "    <tr>\n",
       "      <th>Survived</th>\n",
       "      <th></th>\n",
       "      <th></th>\n",
       "      <th></th>\n",
       "    </tr>\n",
       "  </thead>\n",
       "  <tbody>\n",
       "    <tr>\n",
       "      <th>Alive</th>\n",
       "      <td>93</td>\n",
       "      <td>30</td>\n",
       "      <td>217</td>\n",
       "    </tr>\n",
       "    <tr>\n",
       "      <th>Dead</th>\n",
       "      <td>75</td>\n",
       "      <td>47</td>\n",
       "      <td>427</td>\n",
       "    </tr>\n",
       "  </tbody>\n",
       "</table>\n",
       "</div>"
      ],
      "text/plain": [
       "           C   Q    S\n",
       "Survived             \n",
       "Alive     93  30  217\n",
       "Dead      75  47  427"
      ]
     },
     "metadata": {},
     "output_type": "display_data"
    }
   ],
   "source": [
    "#Embarked\n",
    "Embarked_df=pd.concat([titanic_df['Survived'],pd.get_dummies(titanic_df['Embarked'])],axis=1)\n",
    "\n",
    "print \"C's correlation: \", correlation(Embarked_df['C'],Embarked_df['Survived'])\n",
    "print \"Q's correlation: \", correlation(Embarked_df['Q'],Embarked_df['Survived'])\n",
    "print \"S's correlation: \", correlation(Embarked_df['S'],Embarked_df['Survived'])\n",
    "Survived_name(Embarked_df)\n",
    "embarked_count_df=titanic_df[['Survived','Embarked']].groupby('Embarked').count()\n",
    "embarked_sum_df=Embarked_df.groupby('Survived').sum()\n",
    "display(embarked_count_df)\n",
    "display(embarked_sum_df)"
   ]
  },
  {
   "cell_type": "code",
   "execution_count": 23,
   "metadata": {
    "collapsed": false
   },
   "outputs": [
    {
     "data": {
      "text/plain": [
       "<matplotlib.legend.Legend at 0xa856550>"
      ]
     },
     "execution_count": 23,
     "metadata": {},
     "output_type": "execute_result"
    },
    {
     "data": {
      "image/png": "[encoded data removed]",
      "text/plain": [
       "<matplotlib.figure.Figure at 0xbd15dd8>"
      ]
     },
     "metadata": {},
     "output_type": "display_data"
    }
   ],
   "source": [
    "#Embarked'graph\n",
    "fig, ((axis1, axis2)) = plt.subplots(1,2,figsize=(15,4))\n",
    "embarked_count_df.plot(kind='bar', title='Embarked',color='#009FCC', legend=False, ax=axis1)\n",
    "embarked_sum_df.plot(kind='bar', title=\"Embarked's Survival\",color=['#CC0000','#0044BB','#00DD00'],ax=axis2)\n",
    "axis1.set_xticklabels(['Cherbourg','Queenstown', 'Southampton'])\n",
    "axis2.legend(['Cherbourg','Queenstown', 'Southampton'],loc='upper left')"
   ]
  },
  {
   "cell_type": "markdown",
   "metadata": {},
   "source": [
    "### Analysis embarked ###\n",
    ">I break down to three location. Southampton has the most people embarks and also the most people dead. And the correlation for all three location are less than 0.2, which mean the correlation is weak. Specially, for Queenstown 's correlation too small and p-value show that the correlation is not statistically significant."
   ]
  },
  {
   "cell_type": "code",
   "execution_count": null,
   "metadata": {
    "collapsed": true
   },
   "outputs": [],
   "source": []
  },
  {
   "cell_type": "markdown",
   "metadata": {
    "collapsed": false
   },
   "source": [
    "After we check with each factor using correlation test, we can choose to factor we think is important to do a logistic regression."
   ]
  },
  {
   "cell_type": "code",
   "execution_count": null,
   "metadata": {
    "collapsed": true
   },
   "outputs": [],
   "source": []
  },
  {
   "cell_type": "code",
   "execution_count": 24,
   "metadata": {
    "collapsed": true
   },
   "outputs": [],
   "source": [
    "titanic_clear_df=pd.DataFrame(titanic_df['Survived'])"
   ]
  },
  {
   "cell_type": "code",
   "execution_count": 25,
   "metadata": {
    "collapsed": false
   },
   "outputs": [],
   "source": [
    "#age\n",
    "age_df=pd.DataFrame(titanic_df['Age'].fillna(titanic_df['Age'].mean()))\n",
    "titanic_clear_df=titanic_clear_df.join(age_df)\n",
    "#sex\n",
    "sex_titanic=pd.get_dummies(titanic_df['Sex'])\n",
    "titanic_clear_df=titanic_clear_df.join(sex_titanic)\n",
    "#class\n",
    "class_titanic=pd.get_dummies(titanic_df['Pclass'])\n",
    "class_titanic.columns=['1st class','2nd class','3rd class']\n",
    "titanic_clear_df=titanic_clear_df.join(class_titanic)\n",
    "#family\n",
    "titanic_clear_df['family']=titanic_df['SibSp']+titanic_df['Parch']\n",
    "titanic_clear_df.loc[titanic_clear_df['family']>1,'family']=1\n",
    "#Fare\n",
    "Fare_df=pd.DataFrame(titanic_df['Fare'].fillna(titanic_df['Fare'].mean()))\n",
    "titanic_clear_df=titanic_clear_df.join(titanic_df['Fare'])\n"
   ]
  },
  {
   "cell_type": "code",
   "execution_count": 26,
   "metadata": {
    "collapsed": false
   },
   "outputs": [
    {
     "data": {
      "text/html": [
       "<div>\n",
       "<table border=\"1\" class=\"dataframe\">\n",
       "  <thead>\n",
       "    <tr style=\"text-align: right;\">\n",
       "      <th></th>\n",
       "      <th>Survived</th>\n",
       "      <th>Age</th>\n",
       "      <th>female</th>\n",
       "      <th>male</th>\n",
       "      <th>1st class</th>\n",
       "      <th>2nd class</th>\n",
       "      <th>3rd class</th>\n",
       "      <th>family</th>\n",
       "      <th>Fare</th>\n",
       "    </tr>\n",
       "  </thead>\n",
       "  <tbody>\n",
       "    <tr>\n",
       "      <th>0</th>\n",
       "      <td>0</td>\n",
       "      <td>22.000000</td>\n",
       "      <td>0</td>\n",
       "      <td>1</td>\n",
       "      <td>0</td>\n",
       "      <td>0</td>\n",
       "      <td>1</td>\n",
       "      <td>1</td>\n",
       "      <td>7.2500</td>\n",
       "    </tr>\n",
       "    <tr>\n",
       "      <th>1</th>\n",
       "      <td>1</td>\n",
       "      <td>38.000000</td>\n",
       "      <td>1</td>\n",
       "      <td>0</td>\n",
       "      <td>1</td>\n",
       "      <td>0</td>\n",
       "      <td>0</td>\n",
       "      <td>1</td>\n",
       "      <td>71.2833</td>\n",
       "    </tr>\n",
       "    <tr>\n",
       "      <th>2</th>\n",
       "      <td>1</td>\n",
       "      <td>26.000000</td>\n",
       "      <td>1</td>\n",
       "      <td>0</td>\n",
       "      <td>0</td>\n",
       "      <td>0</td>\n",
       "      <td>1</td>\n",
       "      <td>0</td>\n",
       "      <td>7.9250</td>\n",
       "    </tr>\n",
       "    <tr>\n",
       "      <th>3</th>\n",
       "      <td>1</td>\n",
       "      <td>35.000000</td>\n",
       "      <td>1</td>\n",
       "      <td>0</td>\n",
       "      <td>1</td>\n",
       "      <td>0</td>\n",
       "      <td>0</td>\n",
       "      <td>1</td>\n",
       "      <td>53.1000</td>\n",
       "    </tr>\n",
       "    <tr>\n",
       "      <th>4</th>\n",
       "      <td>0</td>\n",
       "      <td>35.000000</td>\n",
       "      <td>0</td>\n",
       "      <td>1</td>\n",
       "      <td>0</td>\n",
       "      <td>0</td>\n",
       "      <td>1</td>\n",
       "      <td>0</td>\n",
       "      <td>8.0500</td>\n",
       "    </tr>\n",
       "    <tr>\n",
       "      <th>5</th>\n",
       "      <td>0</td>\n",
       "      <td>29.699118</td>\n",
       "      <td>0</td>\n",
       "      <td>1</td>\n",
       "      <td>0</td>\n",
       "      <td>0</td>\n",
       "      <td>1</td>\n",
       "      <td>0</td>\n",
       "      <td>8.4583</td>\n",
       "    </tr>\n",
       "    <tr>\n",
       "      <th>6</th>\n",
       "      <td>0</td>\n",
       "      <td>54.000000</td>\n",
       "      <td>0</td>\n",
       "      <td>1</td>\n",
       "      <td>1</td>\n",
       "      <td>0</td>\n",
       "      <td>0</td>\n",
       "      <td>0</td>\n",
       "      <td>51.8625</td>\n",
       "    </tr>\n",
       "    <tr>\n",
       "      <th>7</th>\n",
       "      <td>0</td>\n",
       "      <td>2.000000</td>\n",
       "      <td>0</td>\n",
       "      <td>1</td>\n",
       "      <td>0</td>\n",
       "      <td>0</td>\n",
       "      <td>1</td>\n",
       "      <td>1</td>\n",
       "      <td>21.0750</td>\n",
       "    </tr>\n",
       "    <tr>\n",
       "      <th>8</th>\n",
       "      <td>1</td>\n",
       "      <td>27.000000</td>\n",
       "      <td>1</td>\n",
       "      <td>0</td>\n",
       "      <td>0</td>\n",
       "      <td>0</td>\n",
       "      <td>1</td>\n",
       "      <td>1</td>\n",
       "      <td>11.1333</td>\n",
       "    </tr>\n",
       "    <tr>\n",
       "      <th>9</th>\n",
       "      <td>1</td>\n",
       "      <td>14.000000</td>\n",
       "      <td>1</td>\n",
       "      <td>0</td>\n",
       "      <td>0</td>\n",
       "      <td>1</td>\n",
       "      <td>0</td>\n",
       "      <td>1</td>\n",
       "      <td>30.0708</td>\n",
       "    </tr>\n",
       "  </tbody>\n",
       "</table>\n",
       "</div>"
      ],
      "text/plain": [
       "   Survived        Age  female  male  1st class  2nd class  3rd class  family  \\\n",
       "0         0  22.000000       0     1          0          0          1       1   \n",
       "1         1  38.000000       1     0          1          0          0       1   \n",
       "2         1  26.000000       1     0          0          0          1       0   \n",
       "3         1  35.000000       1     0          1          0          0       1   \n",
       "4         0  35.000000       0     1          0          0          1       0   \n",
       "5         0  29.699118       0     1          0          0          1       0   \n",
       "6         0  54.000000       0     1          1          0          0       0   \n",
       "7         0   2.000000       0     1          0          0          1       1   \n",
       "8         1  27.000000       1     0          0          0          1       1   \n",
       "9         1  14.000000       1     0          0          1          0       1   \n",
       "\n",
       "      Fare  \n",
       "0   7.2500  \n",
       "1  71.2833  \n",
       "2   7.9250  \n",
       "3  53.1000  \n",
       "4   8.0500  \n",
       "5   8.4583  \n",
       "6  51.8625  \n",
       "7  21.0750  \n",
       "8  11.1333  \n",
       "9  30.0708  "
      ]
     },
     "execution_count": 26,
     "metadata": {},
     "output_type": "execute_result"
    }
   ],
   "source": [
    "titanic_clear_df.head(10)"
   ]
  },
  {
   "cell_type": "code",
   "execution_count": null,
   "metadata": {
    "collapsed": true
   },
   "outputs": [],
   "source": []
  },
  {
   "cell_type": "code",
   "execution_count": 27,
   "metadata": {
    "collapsed": false
   },
   "outputs": [],
   "source": [
    "titanic_fin_df=pd.DataFrame(titanic_clear_df.drop(['Survived'],axis=1))\n",
    "Survived_df=pd.DataFrame(titanic_df[\"Survived\"])\n"
   ]
  },
  {
   "cell_type": "code",
   "execution_count": 28,
   "metadata": {
    "collapsed": false
   },
   "outputs": [
    {
     "name": "stderr",
     "output_type": "stream",
     "text": [
      "C:\\Anaconda2\\lib\\site-packages\\sklearn\\utils\\validation.py:515: DataConversionWarning: A column-vector y was passed when a 1d array was expected. Please change the shape of y to (n_samples, ), for example using ravel().\n",
      "  y = column_or_1d(y, warn=True)\n"
     ]
    },
    {
     "data": {
      "text/plain": [
       "0.79461279461279466"
      ]
     },
     "execution_count": 28,
     "metadata": {},
     "output_type": "execute_result"
    }
   ],
   "source": [
    "clf=lr()\n",
    "clf.fit(titanic_fin_df,Survived_df)\n",
    "clf.score(titanic_fin_df,Survived_df)"
   ]
  },
  {
   "cell_type": "code",
   "execution_count": 29,
   "metadata": {
    "collapsed": false
   },
   "outputs": [
    {
     "data": {
      "text/html": [
       "<div>\n",
       "<table border=\"1\" class=\"dataframe\">\n",
       "  <thead>\n",
       "    <tr style=\"text-align: right;\">\n",
       "      <th></th>\n",
       "      <th>Factor</th>\n",
       "      <th>Correlation Coefficient</th>\n",
       "    </tr>\n",
       "  </thead>\n",
       "  <tbody>\n",
       "    <tr>\n",
       "      <th>1</th>\n",
       "      <td>female</td>\n",
       "      <td>1.550980</td>\n",
       "    </tr>\n",
       "    <tr>\n",
       "      <th>3</th>\n",
       "      <td>1st class</td>\n",
       "      <td>1.228890</td>\n",
       "    </tr>\n",
       "    <tr>\n",
       "      <th>4</th>\n",
       "      <td>2nd class</td>\n",
       "      <td>0.236501</td>\n",
       "    </tr>\n",
       "    <tr>\n",
       "      <th>7</th>\n",
       "      <td>Fare</td>\n",
       "      <td>0.001432</td>\n",
       "    </tr>\n",
       "    <tr>\n",
       "      <th>0</th>\n",
       "      <td>Age</td>\n",
       "      <td>-0.031471</td>\n",
       "    </tr>\n",
       "    <tr>\n",
       "      <th>6</th>\n",
       "      <td>family</td>\n",
       "      <td>-0.072741</td>\n",
       "    </tr>\n",
       "    <tr>\n",
       "      <th>5</th>\n",
       "      <td>3rd class</td>\n",
       "      <td>-0.922627</td>\n",
       "    </tr>\n",
       "    <tr>\n",
       "      <th>2</th>\n",
       "      <td>male</td>\n",
       "      <td>-1.008216</td>\n",
       "    </tr>\n",
       "  </tbody>\n",
       "</table>\n",
       "</div>"
      ],
      "text/plain": [
       "      Factor  Correlation Coefficient\n",
       "1     female                 1.550980\n",
       "3  1st class                 1.228890\n",
       "4  2nd class                 0.236501\n",
       "7       Fare                 0.001432\n",
       "0        Age                -0.031471\n",
       "6     family                -0.072741\n",
       "5  3rd class                -0.922627\n",
       "2       male                -1.008216"
      ]
     },
     "execution_count": 29,
     "metadata": {},
     "output_type": "execute_result"
    }
   ],
   "source": [
    "coeff_df = pd.DataFrame(titanic_fin_df.columns)\n",
    "coeff_df.columns = ['Factor']\n",
    "coeff_df[\"Correlation Coefficient\"] = pd.Series(clf.coef_[0])\n",
    "coeff_df.sort_values(by='Correlation Coefficient',ascending=0)"
   ]
  },
  {
   "cell_type": "code",
   "execution_count": 30,
   "metadata": {
    "collapsed": false
   },
   "outputs": [
    {
     "name": "stderr",
     "output_type": "stream",
     "text": [
      "C:\\Anaconda2\\lib\\site-packages\\sklearn\\utils\\validation.py:515: DataConversionWarning: A column-vector y was passed when a 1d array was expected. Please change the shape of y to (n_samples, ), for example using ravel().\n",
      "  y = column_or_1d(y, warn=True)\n"
     ]
    },
    {
     "data": {
      "text/plain": [
       "0.79573512906846244"
      ]
     },
     "execution_count": 30,
     "metadata": {},
     "output_type": "execute_result"
    }
   ],
   "source": [
    "titanic_fin_df=pd.DataFrame(titanic_clear_df.drop(['Survived','3rd class','male'],axis=1))\n",
    "Survived_df=pd.DataFrame(titanic_df[\"Survived\"])\n",
    "clf=lr()\n",
    "clf.fit(titanic_fin_df,Survived_df)\n",
    "clf.score(titanic_fin_df,Survived_df)"
   ]
  },
  {
   "cell_type": "code",
   "execution_count": 31,
   "metadata": {
    "collapsed": false
   },
   "outputs": [
    {
     "data": {
      "text/html": [
       "<div>\n",
       "<table border=\"1\" class=\"dataframe\">\n",
       "  <thead>\n",
       "    <tr style=\"text-align: right;\">\n",
       "      <th></th>\n",
       "      <th>Factor</th>\n",
       "      <th>Correlation Coefficient</th>\n",
       "    </tr>\n",
       "  </thead>\n",
       "  <tbody>\n",
       "    <tr>\n",
       "      <th>1</th>\n",
       "      <td>female</td>\n",
       "      <td>2.486629</td>\n",
       "    </tr>\n",
       "    <tr>\n",
       "      <th>2</th>\n",
       "      <td>1st class</td>\n",
       "      <td>2.066633</td>\n",
       "    </tr>\n",
       "    <tr>\n",
       "      <th>3</th>\n",
       "      <td>2nd class</td>\n",
       "      <td>1.074629</td>\n",
       "    </tr>\n",
       "    <tr>\n",
       "      <th>5</th>\n",
       "      <td>Fare</td>\n",
       "      <td>0.001616</td>\n",
       "    </tr>\n",
       "    <tr>\n",
       "      <th>0</th>\n",
       "      <td>Age</td>\n",
       "      <td>-0.033090</td>\n",
       "    </tr>\n",
       "    <tr>\n",
       "      <th>4</th>\n",
       "      <td>family</td>\n",
       "      <td>-0.088827</td>\n",
       "    </tr>\n",
       "  </tbody>\n",
       "</table>\n",
       "</div>"
      ],
      "text/plain": [
       "      Factor  Correlation Coefficient\n",
       "1     female                 2.486629\n",
       "2  1st class                 2.066633\n",
       "3  2nd class                 1.074629\n",
       "5       Fare                 0.001616\n",
       "0        Age                -0.033090\n",
       "4     family                -0.088827"
      ]
     },
     "execution_count": 31,
     "metadata": {},
     "output_type": "execute_result"
    }
   ],
   "source": [
    "coeff_df = pd.DataFrame(titanic_fin_df.columns)\n",
    "coeff_df.columns = ['Factor']\n",
    "coeff_df[\"Correlation Coefficient\"] = pd.Series(clf.coef_[0])\n",
    "coeff_df.sort_values(by='Correlation Coefficient',ascending=0)"
   ]
  },
  {
   "cell_type": "code",
   "execution_count": null,
   "metadata": {
    "collapsed": false
   },
   "outputs": [],
   "source": []
  },
  {
   "cell_type": "markdown",
   "metadata": {
    "collapsed": false
   },
   "source": [
    "### Conclusion ###\n",
    "\n",
    ">The data set has some limitations. First, we have 177 missing data in Age columns. That may cause the result become different. Because the missing data, we have to think of something to fill in to those missing data. The problem is no matter how we guess the missing data, it will not be exactly the same as the real data. We only can test on each prediction to see which has the best correlation and p-value. Second, the female and male is not a even distribution, the whole result may change if the female and male is equal. Since Sex is the important from the analysis, if the female and male is even distribution, it may give a better prediction to which other factor is important after Sex. \n",
    "\n",
    ">I use pearsonr correlation test to check the correlation and p-value of the correlation. We use 5% as our significant level. If the correlation p-value is higher than 5%, we can conclude that correlation is not statistically significant. \n",
    "\n",
    ">Base on the correlation test and logistic regression, we can say Sex is the most important factor for survival.  Class is the second important factor, maybe first class people have more time too escape. Surprisingly age is not that important, even though our baby correlation is very high. It may mean the overall age is not important expect baby have  higher chance to survival. This may due to baby is always near their mother and female is the group that has the highest chance to live, so baby are most likely stay alive with their mother."
   ]
  }
 ],
 "metadata": {
  "kernelspec": {
   "display_name": "Python 2",
   "language": "python",
   "name": "python2"
  },
  "language_info": {
   "codemirror_mode": {
    "name": "ipython",
    "version": 2
   },
   "file_extension": ".py",
   "mimetype": "text/x-python",
   "name": "python",
   "nbconvert_exporter": "python",
   "pygments_lexer": "ipython2",
   "version": "2.7.11"
  }
 },
 "nbformat": 4,
 "nbformat_minor": 0
}
