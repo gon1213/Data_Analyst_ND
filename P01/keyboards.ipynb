{
 "cells": [
  {
   "cell_type": "code",
   "execution_count": 3,
   "metadata": {
    "collapsed": false
   },
   "outputs": [],
   "source": [
    "import csv\n",
    "import numpy as np\n",
    "import pandas as pd\n",
    "key='C:\\Users\\Administrator\\udacity\\data analyst\\P01\\keyboards.csv'\n",
    "key_df=pd.read_csv(key)"
   ]
  },
  {
   "cell_type": "code",
   "execution_count": 56,
   "metadata": {
    "collapsed": false
   },
   "outputs": [
    {
     "data": {
      "text/html": [
       "<div>\n",
       "<table border=\"1\" class=\"dataframe\">\n",
       "  <thead>\n",
       "    <tr style=\"text-align: right;\">\n",
       "      <th></th>\n",
       "      <th>QWERTY errors</th>\n",
       "      <th>Alphabetical errors</th>\n",
       "    </tr>\n",
       "  </thead>\n",
       "  <tbody>\n",
       "    <tr>\n",
       "      <th>0</th>\n",
       "      <td>6</td>\n",
       "      <td>6</td>\n",
       "    </tr>\n",
       "    <tr>\n",
       "      <th>1</th>\n",
       "      <td>6</td>\n",
       "      <td>11</td>\n",
       "    </tr>\n",
       "    <tr>\n",
       "      <th>2</th>\n",
       "      <td>2</td>\n",
       "      <td>8</td>\n",
       "    </tr>\n",
       "    <tr>\n",
       "      <th>3</th>\n",
       "      <td>7</td>\n",
       "      <td>5</td>\n",
       "    </tr>\n",
       "    <tr>\n",
       "      <th>4</th>\n",
       "      <td>8</td>\n",
       "      <td>11</td>\n",
       "    </tr>\n",
       "    <tr>\n",
       "      <th>5</th>\n",
       "      <td>8</td>\n",
       "      <td>8</td>\n",
       "    </tr>\n",
       "    <tr>\n",
       "      <th>6</th>\n",
       "      <td>2</td>\n",
       "      <td>10</td>\n",
       "    </tr>\n",
       "    <tr>\n",
       "      <th>7</th>\n",
       "      <td>3</td>\n",
       "      <td>7</td>\n",
       "    </tr>\n",
       "    <tr>\n",
       "      <th>8</th>\n",
       "      <td>5</td>\n",
       "      <td>4</td>\n",
       "    </tr>\n",
       "    <tr>\n",
       "      <th>9</th>\n",
       "      <td>7</td>\n",
       "      <td>3</td>\n",
       "    </tr>\n",
       "    <tr>\n",
       "      <th>10</th>\n",
       "      <td>10</td>\n",
       "      <td>7</td>\n",
       "    </tr>\n",
       "    <tr>\n",
       "      <th>11</th>\n",
       "      <td>5</td>\n",
       "      <td>6</td>\n",
       "    </tr>\n",
       "    <tr>\n",
       "      <th>12</th>\n",
       "      <td>4</td>\n",
       "      <td>10</td>\n",
       "    </tr>\n",
       "    <tr>\n",
       "      <th>13</th>\n",
       "      <td>7</td>\n",
       "      <td>10</td>\n",
       "    </tr>\n",
       "    <tr>\n",
       "      <th>14</th>\n",
       "      <td>5</td>\n",
       "      <td>6</td>\n",
       "    </tr>\n",
       "    <tr>\n",
       "      <th>15</th>\n",
       "      <td>7</td>\n",
       "      <td>5</td>\n",
       "    </tr>\n",
       "    <tr>\n",
       "      <th>16</th>\n",
       "      <td>4</td>\n",
       "      <td>10</td>\n",
       "    </tr>\n",
       "    <tr>\n",
       "      <th>17</th>\n",
       "      <td>5</td>\n",
       "      <td>11</td>\n",
       "    </tr>\n",
       "    <tr>\n",
       "      <th>18</th>\n",
       "      <td>2</td>\n",
       "      <td>13</td>\n",
       "    </tr>\n",
       "    <tr>\n",
       "      <th>19</th>\n",
       "      <td>5</td>\n",
       "      <td>8</td>\n",
       "    </tr>\n",
       "    <tr>\n",
       "      <th>20</th>\n",
       "      <td>3</td>\n",
       "      <td>5</td>\n",
       "    </tr>\n",
       "    <tr>\n",
       "      <th>21</th>\n",
       "      <td>4</td>\n",
       "      <td>11</td>\n",
       "    </tr>\n",
       "    <tr>\n",
       "      <th>22</th>\n",
       "      <td>4</td>\n",
       "      <td>7</td>\n",
       "    </tr>\n",
       "    <tr>\n",
       "      <th>23</th>\n",
       "      <td>4</td>\n",
       "      <td>8</td>\n",
       "    </tr>\n",
       "    <tr>\n",
       "      <th>24</th>\n",
       "      <td>4</td>\n",
       "      <td>5</td>\n",
       "    </tr>\n",
       "  </tbody>\n",
       "</table>\n",
       "</div>"
      ],
      "text/plain": [
       "    QWERTY errors  Alphabetical errors\n",
       "0               6                    6\n",
       "1               6                   11\n",
       "2               2                    8\n",
       "3               7                    5\n",
       "4               8                   11\n",
       "5               8                    8\n",
       "6               2                   10\n",
       "7               3                    7\n",
       "8               5                    4\n",
       "9               7                    3\n",
       "10             10                    7\n",
       "11              5                    6\n",
       "12              4                   10\n",
       "13              7                   10\n",
       "14              5                    6\n",
       "15              7                    5\n",
       "16              4                   10\n",
       "17              5                   11\n",
       "18              2                   13\n",
       "19              5                    8\n",
       "20              3                    5\n",
       "21              4                   11\n",
       "22              4                    7\n",
       "23              4                    8\n",
       "24              4                    5"
      ]
     },
     "execution_count": 56,
     "metadata": {},
     "output_type": "execute_result"
    }
   ],
   "source": [
    "key_df"
   ]
  },
  {
   "cell_type": "code",
   "execution_count": 39,
   "metadata": {
    "collapsed": false
   },
   "outputs": [
    {
     "name": "stdout",
     "output_type": "stream",
     "text": [
      "0      0\n",
      "1     -5\n",
      "2     -6\n",
      "3      2\n",
      "4     -3\n",
      "5      0\n",
      "6     -8\n",
      "7     -4\n",
      "8      1\n",
      "9      4\n",
      "10     3\n",
      "11    -1\n",
      "12    -6\n",
      "13    -3\n",
      "14    -1\n",
      "15     2\n",
      "16    -6\n",
      "17    -6\n",
      "18   -11\n",
      "19    -3\n",
      "20    -2\n",
      "21    -7\n",
      "22    -3\n",
      "23    -4\n",
      "24    -1\n",
      "dtype: int64\n",
      "mean: -2.72\n",
      "Index([u'QWERTY errors', u'Alphabetical errors'], dtype='object')\n"
     ]
    }
   ],
   "source": [
    "a=key_df['QWERTY errors']-key_df['Alphabetical errors']\n",
    "print a\n",
    "print 'mean:' , a.mean()\n",
    "print key_df.columns"
   ]
  },
  {
   "cell_type": "code",
   "execution_count": 13,
   "metadata": {
    "collapsed": false
   },
   "outputs": [
    {
     "name": "stdout",
     "output_type": "stream",
     "text": [
      "0      7.3984\n",
      "1      5.1984\n",
      "2     10.7584\n",
      "3     22.2784\n",
      "4      0.0784\n",
      "5      7.3984\n",
      "6     27.8784\n",
      "7      1.6384\n",
      "8     13.8384\n",
      "9     45.1584\n",
      "10    32.7184\n",
      "11     2.9584\n",
      "12    10.7584\n",
      "13     0.0784\n",
      "14     2.9584\n",
      "15    22.2784\n",
      "16    10.7584\n",
      "17    10.7584\n",
      "18    68.5584\n",
      "19     0.0784\n",
      "20     0.5184\n",
      "21    18.3184\n",
      "22     0.0784\n",
      "23     1.6384\n",
      "24     2.9584\n",
      "dtype: float64\n"
     ]
    }
   ],
   "source": [
    "b=(a-a.mean())**2\n",
    "print b"
   ]
  },
  {
   "cell_type": "code",
   "execution_count": 27,
   "metadata": {
    "collapsed": false
   },
   "outputs": [
    {
     "name": "stdout",
     "output_type": "stream",
     "text": [
      "13.6266666667\n",
      "<type 'float'>\n"
     ]
    }
   ],
   "source": [
    "c=b.sum()/(len(b)-1)\n",
    "print c\n",
    "print type(c)"
   ]
  },
  {
   "cell_type": "code",
   "execution_count": 28,
   "metadata": {
    "collapsed": false
   },
   "outputs": [
    {
     "data": {
      "text/plain": [
       "3.6914315199752337"
      ]
     },
     "execution_count": 28,
     "metadata": {},
     "output_type": "execute_result"
    }
   ],
   "source": [
    "c**(.5)"
   ]
  },
  {
   "cell_type": "code",
   "execution_count": 81,
   "metadata": {
    "collapsed": true
   },
   "outputs": [],
   "source": [
    "def find_sd_T_Test(data):\n",
    "    diff= data[data.columns[0]]-data[data.columns[1]]\n",
    "    diffsq=(diff-diff.mean())**2\n",
    "    sdsqrt=diffsq.sum()/(len(diffsq)-1)\n",
    "    \n",
    "    sd=sdsqrt**(0.5)\n",
    "    \n",
    "    return sd\n",
    "    \n",
    "def find_t(data, sd):\n",
    "    diff= data[data.columns[0]]-data[data.columns[1]]\n",
    "    return diff.mean()/(sd/len(diff)**(0.5))\n",
    "\n",
    "def t_table(C_level,data):\n",
    "    from scipy import stats\n",
    "\n",
    "    return stats.t.ppf((1-C_level)/2,len(data)-1)\n",
    "\n",
    "def reject(t_cala,t_citi):\n",
    "    if abs(t_cala)>abs(t_citi):\n",
    "        return \"reject H0\"\n",
    "    elif abs(t_cala)<abs(t_citi):\n",
    "        return \"fail to reject H0\"\n"
   ]
  },
  {
   "cell_type": "code",
   "execution_count": 75,
   "metadata": {
    "collapsed": false
   },
   "outputs": [
    {
     "data": {
      "text/plain": [
       "3.6914315199752337"
      ]
     },
     "execution_count": 75,
     "metadata": {},
     "output_type": "execute_result"
    }
   ],
   "source": [
    "find_sd_T_Test(key_df)\n"
   ]
  },
  {
   "cell_type": "code",
   "execution_count": 60,
   "metadata": {
    "collapsed": false
   },
   "outputs": [
    {
     "data": {
      "text/plain": [
       "-3.684207583536927"
      ]
     },
     "execution_count": 60,
     "metadata": {},
     "output_type": "execute_result"
    }
   ],
   "source": [
    "find_t(key_df,find_sd_T_Test(key_df))"
   ]
  },
  {
   "cell_type": "code",
   "execution_count": 71,
   "metadata": {
    "collapsed": false
   },
   "outputs": [
    {
     "data": {
      "text/plain": [
       "-2.0638985616280205"
      ]
     },
     "execution_count": 71,
     "metadata": {},
     "output_type": "execute_result"
    }
   ],
   "source": [
    "from scipy import stats\n",
    "\n",
    "stats.t.ppf((1-.95)/2,24)"
   ]
  },
  {
   "cell_type": "code",
   "execution_count": 78,
   "metadata": {
    "collapsed": false
   },
   "outputs": [
    {
     "data": {
      "text/plain": [
       "-2.0638985616280205"
      ]
     },
     "execution_count": 78,
     "metadata": {},
     "output_type": "execute_result"
    }
   ],
   "source": [
    "t_table(.95,key_df)"
   ]
  },
  {
   "cell_type": "code",
   "execution_count": 82,
   "metadata": {
    "collapsed": false
   },
   "outputs": [
    {
     "data": {
      "text/plain": [
       "'reject H0'"
      ]
     },
     "execution_count": 82,
     "metadata": {},
     "output_type": "execute_result"
    }
   ],
   "source": [
    "reject(find_t(key_df,find_sd_T_Test(key_df)),t_table(.95,key_df))"
   ]
  },
  {
   "cell_type": "code",
   "execution_count": 67,
   "metadata": {
    "collapsed": false
   },
   "outputs": [
    {
     "data": {
      "text/plain": [
       "Ttest_indResult(statistic=-4.0559385368573206, pvalue=0.00018256061720148224)"
      ]
     },
     "execution_count": 67,
     "metadata": {},
     "output_type": "execute_result"
    }
   ],
   "source": [
    "from scipy.stats import ttest_ind\n",
    "ttest_ind(key_df['QWERTY errors'],key_df['Alphabetical errors'])"
   ]
  },
  {
   "cell_type": "code",
   "execution_count": null,
   "metadata": {
    "collapsed": true
   },
   "outputs": [],
   "source": []
  }
 ],
 "metadata": {
  "kernelspec": {
   "display_name": "Python 2",
   "language": "python",
   "name": "python2"
  },
  "language_info": {
   "codemirror_mode": {
    "name": "ipython",
    "version": 2
   },
   "file_extension": ".py",
   "mimetype": "text/x-python",
   "name": "python",
   "nbconvert_exporter": "python",
   "pygments_lexer": "ipython2",
   "version": "2.7.11"
  }
 },
 "nbformat": 4,
 "nbformat_minor": 0
}
